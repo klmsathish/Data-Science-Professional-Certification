{
 "cells": [
  {
   "cell_type": "code",
   "execution_count": 1,
   "id": "607d6040",
   "metadata": {},
   "outputs": [],
   "source": [
    "import pandas as pd\n",
    "import numpy as np\n",
    "import seaborn as sns"
   ]
  },
  {
   "cell_type": "code",
   "execution_count": 2,
   "id": "1c001666",
   "metadata": {},
   "outputs": [],
   "source": [
    "#Q1\n",
    "df_yelp = pd.read_csv(\"https://raw.githubusercontent.com/justmarkham/DAT7/master/data/yelp.csv\")"
   ]
  },
  {
   "cell_type": "code",
   "execution_count": 3,
   "id": "73f0e599",
   "metadata": {},
   "outputs": [
    {
     "name": "stderr",
     "output_type": "stream",
     "text": [
      "<ipython-input-3-f396faa410ab>:8: SettingWithCopyWarning: \n",
      "A value is trying to be set on a copy of a slice from a DataFrame\n",
      "\n",
      "See the caveats in the documentation: https://pandas.pydata.org/pandas-docs/stable/user_guide/indexing.html#returning-a-view-versus-a-copy\n",
      "  df_yelp[\"len_text\"][j] = count_words(i)\n"
     ]
    }
   ],
   "source": [
    "# Q2\n",
    "def count_words(text):\n",
    "    split_sent = text.split()\n",
    "    return len(split_sent)\n",
    "\n",
    "df_yelp[\"len_text\"] = \"\"\n",
    "for j,i in enumerate(df_yelp[\"text\"]):\n",
    "    df_yelp[\"len_text\"][j] = count_words(i)"
   ]
  },
  {
   "cell_type": "code",
   "execution_count": 4,
   "id": "0ecd2d9b",
   "metadata": {},
   "outputs": [
    {
     "name": "stdout",
     "output_type": "stream",
     "text": [
      "Mean of stars  feature is 3.7775\n",
      "Mean of cool  feature is 0.8768\n",
      "Mean of useful  feature is 1.4093\n",
      "Mean of funny  feature is 0.7013\n"
     ]
    }
   ],
   "source": [
    "# Q3\n",
    "numerics = ['int16', 'int32', 'int64', 'float16', 'float32', 'float64']\n",
    "numdf = df_yelp.select_dtypes(include=numerics)\n",
    "for i in numdf.columns:\n",
    "    print(\"Mean of\",i,\" feature is\",numdf[i].mean())"
   ]
  },
  {
   "cell_type": "code",
   "execution_count": 5,
   "id": "726bf5c0",
   "metadata": {},
   "outputs": [
    {
     "data": {
      "text/html": [
       "<div>\n",
       "<style scoped>\n",
       "    .dataframe tbody tr th:only-of-type {\n",
       "        vertical-align: middle;\n",
       "    }\n",
       "\n",
       "    .dataframe tbody tr th {\n",
       "        vertical-align: top;\n",
       "    }\n",
       "\n",
       "    .dataframe thead th {\n",
       "        text-align: right;\n",
       "    }\n",
       "</style>\n",
       "<table border=\"1\" class=\"dataframe\">\n",
       "  <thead>\n",
       "    <tr style=\"text-align: right;\">\n",
       "      <th></th>\n",
       "      <th>stars</th>\n",
       "      <th>cool</th>\n",
       "      <th>useful</th>\n",
       "      <th>funny</th>\n",
       "    </tr>\n",
       "  </thead>\n",
       "  <tbody>\n",
       "    <tr>\n",
       "      <th>stars</th>\n",
       "      <td>1.000000</td>\n",
       "      <td>0.052555</td>\n",
       "      <td>-0.023479</td>\n",
       "      <td>-0.061306</td>\n",
       "    </tr>\n",
       "    <tr>\n",
       "      <th>cool</th>\n",
       "      <td>0.052555</td>\n",
       "      <td>1.000000</td>\n",
       "      <td>0.887102</td>\n",
       "      <td>0.764342</td>\n",
       "    </tr>\n",
       "    <tr>\n",
       "      <th>useful</th>\n",
       "      <td>-0.023479</td>\n",
       "      <td>0.887102</td>\n",
       "      <td>1.000000</td>\n",
       "      <td>0.723406</td>\n",
       "    </tr>\n",
       "    <tr>\n",
       "      <th>funny</th>\n",
       "      <td>-0.061306</td>\n",
       "      <td>0.764342</td>\n",
       "      <td>0.723406</td>\n",
       "      <td>1.000000</td>\n",
       "    </tr>\n",
       "  </tbody>\n",
       "</table>\n",
       "</div>"
      ],
      "text/plain": [
       "           stars      cool    useful     funny\n",
       "stars   1.000000  0.052555 -0.023479 -0.061306\n",
       "cool    0.052555  1.000000  0.887102  0.764342\n",
       "useful -0.023479  0.887102  1.000000  0.723406\n",
       "funny  -0.061306  0.764342  0.723406  1.000000"
      ]
     },
     "execution_count": 5,
     "metadata": {},
     "output_type": "execute_result"
    }
   ],
   "source": [
    "#Q4\n",
    "numdf.corr()"
   ]
  },
  {
   "cell_type": "code",
   "execution_count": 6,
   "id": "40e51142",
   "metadata": {},
   "outputs": [
    {
     "data": {
      "text/plain": [
       "<AxesSubplot:>"
      ]
     },
     "execution_count": 6,
     "metadata": {},
     "output_type": "execute_result"
    },
    {
     "data": {
      "image/png": "[encoded data removed]",
      "text/plain": [
       "<Figure size 432x288 with 2 Axes>"
      ]
     },
     "metadata": {
      "needs_background": "light"
     },
     "output_type": "display_data"
    }
   ],
   "source": [
    "#Q5\n",
    "sns.heatmap(data = numdf.corr(), annot = True, cmap = 'coolwarm')"
   ]
  },
  {
   "cell_type": "code",
   "execution_count": 7,
   "id": "df5ec6a2",
   "metadata": {},
   "outputs": [],
   "source": [
    "#Q6\n",
    "df_yelp_class = df_yelp[(df_yelp['stars'] == 1)|(df_yelp['stars'] == 5)]"
   ]
  },
  {
   "cell_type": "code",
   "execution_count": 8,
   "id": "713504a1",
   "metadata": {},
   "outputs": [],
   "source": [
    "#Q7\n",
    "X = df_yelp['text']\n",
    "y = df_yelp['stars']"
   ]
  },
  {
   "cell_type": "code",
   "execution_count": 18,
   "id": "2ea41bdb",
   "metadata": {},
   "outputs": [
    {
     "name": "stdout",
     "output_type": "stream",
     "text": [
      "../Data\\Big Data - Assignmnent.docx.docx\n",
      "../Data\\ML_Report.docx\n"
     ]
    }
   ],
   "source": [
    "#Q8\n",
    "from docx import *\n",
    "import glob\n",
    "\n",
    "def getText(filename):\n",
    "    doc = Document(filename)\n",
    "    fullText = []\n",
    "    for para in doc.paragraphs:\n",
    "        fullText.append(para.text.strip(\"\\n\"))\n",
    "        \n",
    "    return \" \".join(fullText)\n",
    "PATH = \"../Data/*.docx\"\n",
    "files = glob.glob(PATH)\n",
    "\n",
    "corpus_list = []\n",
    "for f in files:\n",
    "    cur_corpus = getText(f)\n",
    "    corpus_list.append(cur_corpus)"
   ]
  },
  {
   "cell_type": "code",
   "execution_count": 20,
   "id": "7d82169e",
   "metadata": {},
   "outputs": [],
   "source": [
    "#Q9\n",
    "pd.DataFrame(corpus_list).to_csv(\"../Data/corpus.csv\")"
   ]
  },
  {
   "cell_type": "markdown",
   "id": "9ce2a251",
   "metadata": {},
   "source": [
    "## Q10\n",
    "\n",
    "### Using Corpus, different datasources can be merged into a single object\n",
    "### The size of the corpus will be significatly lower than csv files\n",
    "### Also, processing time required for the data will be more faster in corpus"
   ]
  }
 ],
 "metadata": {
  "kernelspec": {
   "display_name": "Python 3",
   "language": "python",
   "name": "python3"
  },
  "language_info": {
   "codemirror_mode": {
    "name": "ipython",
    "version": 3
   },
   "file_extension": ".py",
   "mimetype": "text/x-python",
   "name": "python",
   "nbconvert_exporter": "python",
   "pygments_lexer": "ipython3",
   "version": "3.8.10"
  }
 },
 "nbformat": 4,
 "nbformat_minor": 5
}
