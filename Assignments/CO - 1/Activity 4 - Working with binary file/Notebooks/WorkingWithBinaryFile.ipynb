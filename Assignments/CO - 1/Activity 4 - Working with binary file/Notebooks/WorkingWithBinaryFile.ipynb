{
 "cells": [
  {
   "cell_type": "code",
   "execution_count": 2,
   "metadata": {
    "id": "5VLhwYdj6gbR"
   },
   "outputs": [],
   "source": [
    "import pandas as pd"
   ]
  },
  {
   "cell_type": "code",
   "execution_count": 3,
   "metadata": {
    "colab": {
     "base_uri": "https://localhost:8080/",
     "height": 562
    },
    "id": "S-Bf0VD56GyV",
    "outputId": "3c1cf0cb-bba0-400a-ee33-7322df0084f4"
   },
   "outputs": [
    {
     "data": {
      "text/html": [
       "<div>\n",
       "<style scoped>\n",
       "    .dataframe tbody tr th:only-of-type {\n",
       "        vertical-align: middle;\n",
       "    }\n",
       "\n",
       "    .dataframe tbody tr th {\n",
       "        vertical-align: top;\n",
       "    }\n",
       "\n",
       "    .dataframe thead th {\n",
       "        text-align: right;\n",
       "    }\n",
       "</style>\n",
       "<table border=\"1\" class=\"dataframe\">\n",
       "  <thead>\n",
       "    <tr style=\"text-align: right;\">\n",
       "      <th></th>\n",
       "      <th>Address</th>\n",
       "      <th>Lot</th>\n",
       "      <th>AM or PM</th>\n",
       "      <th>Browser Info</th>\n",
       "      <th>Company</th>\n",
       "      <th>Credit Card</th>\n",
       "      <th>CC Exp Date</th>\n",
       "      <th>CC Security Code</th>\n",
       "      <th>CC Provider</th>\n",
       "      <th>Email</th>\n",
       "      <th>Job</th>\n",
       "      <th>IP Address</th>\n",
       "      <th>Language</th>\n",
       "      <th>Purchase Price</th>\n",
       "    </tr>\n",
       "  </thead>\n",
       "  <tbody>\n",
       "    <tr>\n",
       "      <th>0</th>\n",
       "      <td>16629 Pace Camp Apt. 448\\nAlexisborough, NE 77...</td>\n",
       "      <td>46 in</td>\n",
       "      <td>PM</td>\n",
       "      <td>Opera/9.56.(X11; Linux x86_64; sl-SI) Presto/2...</td>\n",
       "      <td>Martinez-Herman</td>\n",
       "      <td>6011929061123406</td>\n",
       "      <td>02/20</td>\n",
       "      <td>900</td>\n",
       "      <td>JCB 16 digit</td>\n",
       "      <td>pdunlap@yahoo.com</td>\n",
       "      <td>Scientist, product/process development</td>\n",
       "      <td>149.146.147.205</td>\n",
       "      <td>el</td>\n",
       "      <td>98.14</td>\n",
       "    </tr>\n",
       "    <tr>\n",
       "      <th>1</th>\n",
       "      <td>9374 Jasmine Spurs Suite 508\\nSouth John, TN 8...</td>\n",
       "      <td>28 rn</td>\n",
       "      <td>PM</td>\n",
       "      <td>Opera/8.93.(Windows 98; Win 9x 4.90; en-US) Pr...</td>\n",
       "      <td>Fletcher, Richards and Whitaker</td>\n",
       "      <td>3337758169645356</td>\n",
       "      <td>11/18</td>\n",
       "      <td>561</td>\n",
       "      <td>Mastercard</td>\n",
       "      <td>anthony41@reed.com</td>\n",
       "      <td>Drilling engineer</td>\n",
       "      <td>15.160.41.51</td>\n",
       "      <td>fr</td>\n",
       "      <td>70.73</td>\n",
       "    </tr>\n",
       "    <tr>\n",
       "      <th>2</th>\n",
       "      <td>Unit 0065 Box 5052\\nDPO AP 27450</td>\n",
       "      <td>94 vE</td>\n",
       "      <td>PM</td>\n",
       "      <td>Mozilla/5.0 (compatible; MSIE 9.0; Windows NT ...</td>\n",
       "      <td>Simpson, Williams and Pham</td>\n",
       "      <td>675957666125</td>\n",
       "      <td>08/19</td>\n",
       "      <td>699</td>\n",
       "      <td>JCB 16 digit</td>\n",
       "      <td>amymiller@morales-harrison.com</td>\n",
       "      <td>Customer service manager</td>\n",
       "      <td>132.207.160.22</td>\n",
       "      <td>de</td>\n",
       "      <td>0.95</td>\n",
       "    </tr>\n",
       "    <tr>\n",
       "      <th>3</th>\n",
       "      <td>7780 Julia Fords\\nNew Stacy, WA 45798</td>\n",
       "      <td>36 vm</td>\n",
       "      <td>PM</td>\n",
       "      <td>Mozilla/5.0 (Macintosh; Intel Mac OS X 10_8_0 ...</td>\n",
       "      <td>Williams, Marshall and Buchanan</td>\n",
       "      <td>6011578504430710</td>\n",
       "      <td>02/24</td>\n",
       "      <td>384</td>\n",
       "      <td>Discover</td>\n",
       "      <td>brent16@olson-robinson.info</td>\n",
       "      <td>Drilling engineer</td>\n",
       "      <td>30.250.74.19</td>\n",
       "      <td>es</td>\n",
       "      <td>78.04</td>\n",
       "    </tr>\n",
       "    <tr>\n",
       "      <th>4</th>\n",
       "      <td>23012 Munoz Drive Suite 337\\nNew Cynthia, TX 5...</td>\n",
       "      <td>20 IE</td>\n",
       "      <td>AM</td>\n",
       "      <td>Opera/9.58.(X11; Linux x86_64; it-IT) Presto/2...</td>\n",
       "      <td>Brown, Watson and Andrews</td>\n",
       "      <td>6011456623207998</td>\n",
       "      <td>10/25</td>\n",
       "      <td>678</td>\n",
       "      <td>Diners Club / Carte Blanche</td>\n",
       "      <td>christopherwright@gmail.com</td>\n",
       "      <td>Fine artist</td>\n",
       "      <td>24.140.33.94</td>\n",
       "      <td>es</td>\n",
       "      <td>77.82</td>\n",
       "    </tr>\n",
       "  </tbody>\n",
       "</table>\n",
       "</div>"
      ],
      "text/plain": [
       "                                             Address    Lot AM or PM  \\\n",
       "0  16629 Pace Camp Apt. 448\\nAlexisborough, NE 77...  46 in       PM   \n",
       "1  9374 Jasmine Spurs Suite 508\\nSouth John, TN 8...  28 rn       PM   \n",
       "2                   Unit 0065 Box 5052\\nDPO AP 27450  94 vE       PM   \n",
       "3              7780 Julia Fords\\nNew Stacy, WA 45798  36 vm       PM   \n",
       "4  23012 Munoz Drive Suite 337\\nNew Cynthia, TX 5...  20 IE       AM   \n",
       "\n",
       "                                        Browser Info  \\\n",
       "0  Opera/9.56.(X11; Linux x86_64; sl-SI) Presto/2...   \n",
       "1  Opera/8.93.(Windows 98; Win 9x 4.90; en-US) Pr...   \n",
       "2  Mozilla/5.0 (compatible; MSIE 9.0; Windows NT ...   \n",
       "3  Mozilla/5.0 (Macintosh; Intel Mac OS X 10_8_0 ...   \n",
       "4  Opera/9.58.(X11; Linux x86_64; it-IT) Presto/2...   \n",
       "\n",
       "                           Company       Credit Card CC Exp Date  \\\n",
       "0                  Martinez-Herman  6011929061123406       02/20   \n",
       "1  Fletcher, Richards and Whitaker  3337758169645356       11/18   \n",
       "2       Simpson, Williams and Pham      675957666125       08/19   \n",
       "3  Williams, Marshall and Buchanan  6011578504430710       02/24   \n",
       "4        Brown, Watson and Andrews  6011456623207998       10/25   \n",
       "\n",
       "   CC Security Code                  CC Provider  \\\n",
       "0               900                 JCB 16 digit   \n",
       "1               561                   Mastercard   \n",
       "2               699                 JCB 16 digit   \n",
       "3               384                     Discover   \n",
       "4               678  Diners Club / Carte Blanche   \n",
       "\n",
       "                            Email                                     Job  \\\n",
       "0               pdunlap@yahoo.com  Scientist, product/process development   \n",
       "1              anthony41@reed.com                       Drilling engineer   \n",
       "2  amymiller@morales-harrison.com                Customer service manager   \n",
       "3     brent16@olson-robinson.info                       Drilling engineer   \n",
       "4     christopherwright@gmail.com                             Fine artist   \n",
       "\n",
       "        IP Address Language  Purchase Price  \n",
       "0  149.146.147.205       el           98.14  \n",
       "1     15.160.41.51       fr           70.73  \n",
       "2   132.207.160.22       de            0.95  \n",
       "3     30.250.74.19       es           78.04  \n",
       "4     24.140.33.94       es           77.82  "
      ]
     },
     "execution_count": 3,
     "metadata": {},
     "output_type": "execute_result"
    }
   ],
   "source": [
    "dataPath = \"../Data/Ecommerce Purchases\"\n",
    "df = pd.read_csv(dataPath)\n",
    "df.head()"
   ]
  },
  {
   "cell_type": "code",
   "execution_count": 4,
   "metadata": {
    "colab": {
     "base_uri": "https://localhost:8080/"
    },
    "id": "uanTxHdC6lwG",
    "outputId": "1d50aafb-15cc-47c2-97d1-012f02bb7a71"
   },
   "outputs": [
    {
     "data": {
      "text/plain": [
       "Address             0\n",
       "Lot                 0\n",
       "AM or PM            0\n",
       "Browser Info        0\n",
       "Company             0\n",
       "Credit Card         0\n",
       "CC Exp Date         0\n",
       "CC Security Code    0\n",
       "CC Provider         0\n",
       "Email               0\n",
       "Job                 0\n",
       "IP Address          0\n",
       "Language            0\n",
       "Purchase Price      0\n",
       "dtype: int64"
      ]
     },
     "execution_count": 4,
     "metadata": {},
     "output_type": "execute_result"
    }
   ],
   "source": [
    "df.isna().sum()"
   ]
  },
  {
   "cell_type": "markdown",
   "metadata": {
    "id": "HblTAUwC6sLV"
   },
   "source": [
    "1. How many rows and columns are there?"
   ]
  },
  {
   "cell_type": "code",
   "execution_count": 5,
   "metadata": {
    "colab": {
     "base_uri": "https://localhost:8080/"
    },
    "id": "j6leJKFT6pBg",
    "outputId": "abd72b0b-f48f-4013-957b-1c78c57a5102"
   },
   "outputs": [
    {
     "name": "stdout",
     "output_type": "stream",
     "text": [
      "There are 10000 rows and 14 columns\n"
     ]
    }
   ],
   "source": [
    "print(\"There are {0} rows and {1} columns\".format(df.shape[0],df.shape[1]))"
   ]
  },
  {
   "cell_type": "markdown",
   "metadata": {
    "id": "3LnVZUMB62px"
   },
   "source": [
    "2. What is the average Purchase Price?"
   ]
  },
  {
   "cell_type": "code",
   "execution_count": 6,
   "metadata": {
    "colab": {
     "base_uri": "https://localhost:8080/"
    },
    "id": "RvPtXmDq60iU",
    "outputId": "09de272f-0667-49e1-f31d-8ae73db84f4e"
   },
   "outputs": [
    {
     "name": "stdout",
     "output_type": "stream",
     "text": [
      "The average purchase price is:  50.34730200000025\n"
     ]
    }
   ],
   "source": [
    "print(\"The average purchase price is: \",df['Purchase Price'].mean())"
   ]
  },
  {
   "cell_type": "markdown",
   "metadata": {
    "id": "gkhACv7x6_Z4"
   },
   "source": [
    "3. What were the highest and lowest purchase prices?"
   ]
  },
  {
   "cell_type": "code",
   "execution_count": 8,
   "metadata": {
    "colab": {
     "base_uri": "https://localhost:8080/"
    },
    "id": "hqRONCpt68gu",
    "outputId": "3de9da6c-73c2-4c33-c921-479c1fb7246b"
   },
   "outputs": [
    {
     "name": "stdout",
     "output_type": "stream",
     "text": [
      "The highest purchase price is:  99.99\n",
      "The lowest purchase price is:  0.0\n"
     ]
    }
   ],
   "source": [
    "print(\"The highest purchase price is: \", max(df['Purchase Price']))\n",
    "print(\"The lowest purchase price is: \", min(df['Purchase Price']))"
   ]
  },
  {
   "cell_type": "markdown",
   "metadata": {
    "id": "hKMd68Io7OjW"
   },
   "source": [
    "4. How many people have English 'en' as their Language of choice on the website?"
   ]
  },
  {
   "cell_type": "code",
   "execution_count": 11,
   "metadata": {
    "colab": {
     "base_uri": "https://localhost:8080/"
    },
    "id": "Y_Y2OKjC7JUn",
    "outputId": "d073f9c8-08bd-44b3-9d50-910e5963af86"
   },
   "outputs": [
    {
     "name": "stdout",
     "output_type": "stream",
     "text": [
      "There are 1098 people\n"
     ]
    }
   ],
   "source": [
    "print(\"There are {0} people\".format(df['Language'].value_counts()['en']))"
   ]
  },
  {
   "cell_type": "markdown",
   "metadata": {
    "id": "Rio3bwO37lNv"
   },
   "source": [
    "5. How many people have the job titles of \"Lawyer\" \"Contracting civil engineer\" ?"
   ]
  },
  {
   "cell_type": "code",
   "execution_count": 14,
   "metadata": {
    "colab": {
     "base_uri": "https://localhost:8080/"
    },
    "id": "WJ4CsJSQ7cAP",
    "outputId": "3bdca04f-656d-4452-90d8-e7ccab0a6ea5"
   },
   "outputs": [
    {
     "name": "stdout",
     "output_type": "stream",
     "text": [
      "There are 30 people as Lawyers and 21 people as Contracting civil engineers\n"
     ]
    }
   ],
   "source": [
    "print(\"There are {0} people as Lawyers and {1} people as Contracting civil engineers\".format(df['Job'].value_counts()['Lawyer'], df['Job'].value_counts()[\"Contracting civil engineer\"]))\n",
    "# df['Job'].value_counts()['Lawyer']\n",
    "# df['Job'].value_counts()[\"Contracting civil engineer\"]"
   ]
  },
  {
   "cell_type": "markdown",
   "metadata": {
    "id": "2HKGJylR8M0I"
   },
   "source": [
    "6. How many people made the purchase during the AM and how many people made the purchase during PM ?"
   ]
  },
  {
   "cell_type": "code",
   "execution_count": 15,
   "metadata": {
    "colab": {
     "base_uri": "https://localhost:8080/"
    },
    "id": "GcfjCFp773DM",
    "outputId": "45f95c69-0b1d-4d47-db32-d202eeb6cec9"
   },
   "outputs": [
    {
     "data": {
      "text/plain": [
       "PM    5068\n",
       "AM    4932\n",
       "Name: AM or PM, dtype: int64"
      ]
     },
     "execution_count": 15,
     "metadata": {},
     "output_type": "execute_result"
    }
   ],
   "source": [
    "df['AM or PM'].value_counts()"
   ]
  },
  {
   "cell_type": "markdown",
   "metadata": {
    "id": "srVDACJN8cCi"
   },
   "source": [
    "7. What are the 3 most common Job Titles?"
   ]
  },
  {
   "cell_type": "code",
   "execution_count": 17,
   "metadata": {
    "colab": {
     "base_uri": "https://localhost:8080/"
    },
    "id": "wu8yModm8Xxn",
    "outputId": "5164a091-7ebf-456b-aaf4-f0466ff84702"
   },
   "outputs": [
    {
     "name": "stdout",
     "output_type": "stream",
     "text": [
      "The 3 most common JobTitles are:\n",
      "Interior and spatial designer\n",
      "Lawyer\n",
      "Social researcher\n"
     ]
    }
   ],
   "source": [
    "print(\"The 3 most common JobTitles are:\")\n",
    "for i in df['Job'].value_counts().keys()[0:3]:\n",
    "  print(i)"
   ]
  },
  {
   "cell_type": "markdown",
   "metadata": {
    "id": "tM13QsLh8_9O"
   },
   "source": [
    "8. Someone made a purchase that came from Lot: \"20 IE\" , what was the Purchase Price for this transaction?"
   ]
  },
  {
   "cell_type": "code",
   "execution_count": 21,
   "metadata": {
    "colab": {
     "base_uri": "https://localhost:8080/"
    },
    "id": "Anv6_ANx8209",
    "outputId": "22116730-814f-41d6-a4ef-957d61611ab6"
   },
   "outputs": [
    {
     "name": "stdout",
     "output_type": "stream",
     "text": [
      "Purchase price is:  77.82\n"
     ]
    }
   ],
   "source": [
    "print(\"Purchase price is: \",df[df['Lot']==\"20 IE\"]['Purchase Price'].values[0])"
   ]
  },
  {
   "cell_type": "markdown",
   "metadata": {
    "id": "bn0aE7H-9T5l"
   },
   "source": [
    "9. What is the email of the person with the following Credit Card Number: 4926535242672853?"
   ]
  },
  {
   "cell_type": "code",
   "execution_count": 38,
   "metadata": {
    "colab": {
     "base_uri": "https://localhost:8080/"
    },
    "id": "JQrXTB1x9MKb",
    "outputId": "e0e1b98f-5a9d-4469-d3b0-7af790106bc1"
   },
   "outputs": [
    {
     "name": "stdout",
     "output_type": "stream",
     "text": [
      "Email is:  bondellen@williams-garza.com\n"
     ]
    }
   ],
   "source": [
    "if len(df[df['Credit Card']==4926535242672853]['Email']) == 0:\n",
    "  print(\"Record not found!\")\n",
    "else:\n",
    "  print(\"Email is: \",df[df['Credit Card']==4926535242672853]['Email'].values[0])"
   ]
  },
  {
   "cell_type": "markdown",
   "metadata": {
    "id": "QcesFMwK-TYn"
   },
   "source": [
    "10. How many people have American Express as their Credit Card Provider *and made a purchase above $85 ?"
   ]
  },
  {
   "cell_type": "code",
   "execution_count": 29,
   "metadata": {
    "colab": {
     "base_uri": "https://localhost:8080/"
    },
    "id": "qA5dolK69m-K",
    "outputId": "8ab057cd-0638-411c-82af-c12a7e0fc360"
   },
   "outputs": [
    {
     "name": "stdout",
     "output_type": "stream",
     "text": [
      "The required count is:  119\n"
     ]
    }
   ],
   "source": [
    "count = 0\n",
    "for i in df[df['CC Provider']==\"American Express\"]['Purchase Price']:\n",
    "  if i > 85:\n",
    "    count += 1\n",
    "print(\"The required count is: \",count)"
   ]
  },
  {
   "cell_type": "markdown",
   "metadata": {
    "id": "SRj0Fze3_Fyo"
   },
   "source": [
    "11. How many people have a credit card that expires in 2025?"
   ]
  },
  {
   "cell_type": "code",
   "execution_count": 31,
   "metadata": {
    "colab": {
     "base_uri": "https://localhost:8080/"
    },
    "id": "dHpQakTO927E",
    "outputId": "8a0a268f-7ba0-498c-b317-804da00a5a53"
   },
   "outputs": [
    {
     "name": "stdout",
     "output_type": "stream",
     "text": [
      "The required count is:  1033\n"
     ]
    }
   ],
   "source": [
    "count = 0\n",
    "for i in df['CC Exp Date']:\n",
    "  year = i.split(\"/\")[1]\n",
    "  if year == \"25\":\n",
    "    count += 1\n",
    "print(\"The required count is: \",count)"
   ]
  },
  {
   "cell_type": "markdown",
   "metadata": {
    "id": "5OWcXAew_f0w"
   },
   "source": [
    "12. What are the top 5 most popular email providers/hosts (e.g. gmail.com, yahoo.com, etc...)"
   ]
  },
  {
   "cell_type": "code",
   "execution_count": 32,
   "metadata": {
    "id": "A2hyLcu4_1uH"
   },
   "outputs": [],
   "source": [
    "find_provider = lambda email: email.split(\"@\")[1]"
   ]
  },
  {
   "cell_type": "code",
   "execution_count": 36,
   "metadata": {
    "colab": {
     "base_uri": "https://localhost:8080/",
     "height": 36
    },
    "id": "BoUMck4fANHn",
    "outputId": "357dc609-20ae-4337-8fa6-6fd62b895f40"
   },
   "outputs": [
    {
     "data": {
      "application/vnd.google.colaboratory.intrinsic+json": {
       "type": "string"
      },
      "text/plain": [
       "'gmail.com'"
      ]
     },
     "execution_count": 36,
     "metadata": {},
     "output_type": "execute_result"
    }
   ],
   "source": [
    "find_provider(\"hello@gmail.com\")"
   ]
  },
  {
   "cell_type": "code",
   "execution_count": 33,
   "metadata": {
    "id": "sv7Dy1vy_bBl"
   },
   "outputs": [],
   "source": [
    "df[\"EmailProvider\"] = df['Email'].apply(find_provider)"
   ]
  },
  {
   "cell_type": "code",
   "execution_count": 37,
   "metadata": {
    "colab": {
     "base_uri": "https://localhost:8080/"
    },
    "id": "9sX02EuZ__Sb",
    "outputId": "d13816c3-cafa-4f30-a791-727e2722cf9f"
   },
   "outputs": [
    {
     "name": "stdout",
     "output_type": "stream",
     "text": [
      "The top 5 most popular email providers:\n",
      "hotmail.com     1638\n",
      "yahoo.com       1616\n",
      "gmail.com       1605\n",
      "smith.com         42\n",
      "williams.com      37\n",
      "Name: EmailProvider, dtype: int64\n"
     ]
    }
   ],
   "source": [
    "print(\"The top 5 most popular email providers:\")\n",
    "print(df['EmailProvider'].value_counts()[0:5])"
   ]
  }
 ],
 "metadata": {
  "colab": {
   "collapsed_sections": [],
   "name": "Day1_02_MAY_2022_EconomicPurchases_E0119002.ipynb",
   "provenance": []
  },
  "kernelspec": {
   "display_name": "Python 3",
   "language": "python",
   "name": "python3"
  },
  "language_info": {
   "codemirror_mode": {
    "name": "ipython",
    "version": 3
   },
   "file_extension": ".py",
   "mimetype": "text/x-python",
   "name": "python",
   "nbconvert_exporter": "python",
   "pygments_lexer": "ipython3",
   "version": "3.8.10"
  }
 },
 "nbformat": 4,
 "nbformat_minor": 1
}
