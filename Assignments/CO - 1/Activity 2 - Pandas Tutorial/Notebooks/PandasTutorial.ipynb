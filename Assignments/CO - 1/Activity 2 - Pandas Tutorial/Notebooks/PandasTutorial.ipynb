{
  "cells": [
    {
      "cell_type": "markdown",
      "id": "737120a8",
      "metadata": {
        "id": "737120a8"
      },
      "source": [
        "# Day - 1 Pandas Tutorial"
      ]
    },
    {
      "cell_type": "markdown",
      "id": "20a9e4b5",
      "metadata": {
        "id": "20a9e4b5"
      },
      "source": [
        "#### 1. Given a list of bicycle types 'trek', 'cannondale', 'redline', 'specialized' print the third type of bicycle to the console in the form \"My first bicycle was a ..........\""
      ]
    },
    {
      "cell_type": "code",
      "execution_count": 3,
      "id": "474ffb99",
      "metadata": {
        "id": "474ffb99",
        "outputId": "4cdc857f-3c63-469b-a20f-cd6ce29b9e57",
        "colab": {
          "base_uri": "https://localhost:8080/"
        }
      },
      "outputs": [
        {
          "output_type": "stream",
          "name": "stdout",
          "text": [
            "My first bicycle was a redline\n"
          ]
        }
      ],
      "source": [
        "list_bicycle=['trek','cannondale','redline','sepcialized']\n",
        "index=3\n",
        "print('My first bicycle was a '+list_bicycle[index-1])"
      ]
    },
    {
      "cell_type": "markdown",
      "id": "8b3f5da9",
      "metadata": {
        "id": "8b3f5da9"
      },
      "source": [
        "#### 2. Give the list of cars model 'bmw', 'audi', 'toyota', 'subaru' perform the following operations \n",
        "\n",
        "1. sort the list\n",
        "\n",
        "2. reverse the list\n",
        "\n",
        "3. Print the original list"
      ]
    },
    {
      "cell_type": "code",
      "execution_count": 5,
      "id": "fdfd3339",
      "metadata": {
        "id": "fdfd3339",
        "outputId": "126e60aa-255d-4f80-fe23-405a6fcafd31",
        "colab": {
          "base_uri": "https://localhost:8080/"
        }
      },
      "outputs": [
        {
          "output_type": "stream",
          "name": "stdout",
          "text": [
            "['audi', 'bmw', 'subaru', 'toyota']\n",
            "['subaru', 'toyota', 'audi', 'bmw']\n",
            "['bmw', 'audi', 'toyota', 'subaru']\n"
          ]
        }
      ],
      "source": [
        "list_cars=['bmw', 'audi', 'toyota', 'subaru' ]\n",
        "print(sorted(list_cars))\n",
        "print(list_cars[::-1])\n",
        "print(list_cars)"
      ]
    },
    {
      "cell_type": "markdown",
      "id": "576a94d0",
      "metadata": {
        "id": "576a94d0"
      },
      "source": [
        "#### 3. Given the list of motorvehicle's brand 'honda', 'yamaha', 'suzuki', 'ducati' a customer finds Ducati is much expensive. Hence remove the brand from the list and display the new list with a message to customer."
      ]
    },
    {
      "cell_type": "code",
      "execution_count": 8,
      "id": "d4fb2283",
      "metadata": {
        "id": "d4fb2283",
        "outputId": "6dcf985e-8a68-42ed-9f59-41288aaef080",
        "colab": {
          "base_uri": "https://localhost:8080/"
        }
      },
      "outputs": [
        {
          "output_type": "stream",
          "name": "stdout",
          "text": [
            "Here are your new options ['honda', 'yamaha', 'suzuki']\n"
          ]
        }
      ],
      "source": [
        "list_motor=[ 'honda', 'yamaha', 'suzuki', 'ducati']\n",
        "list_motor.remove(\"ducati\")\n",
        "print(\"Here are your new options {}\".format(list_motor))"
      ]
    },
    {
      "cell_type": "code",
      "execution_count": null,
      "id": "d7a338b9",
      "metadata": {
        "id": "d7a338b9"
      },
      "outputs": [],
      "source": [
        ""
      ]
    },
    {
      "cell_type": "code",
      "execution_count": null,
      "id": "a11aa35a",
      "metadata": {
        "id": "a11aa35a"
      },
      "outputs": [],
      "source": [
        ""
      ]
    },
    {
      "cell_type": "markdown",
      "id": "7a1016f3",
      "metadata": {
        "id": "7a1016f3"
      },
      "source": [
        "#### 4. Your are decided to call for party and listed your faviourite food items such as 'pizza', 'falafel', 'carrot cake'. Later you came to know your friends want to add icecream to your list. Also, you want to add new food item 'cannoli' to your list. Update your item list and your firend's list seperately and print to the console."
      ]
    },
    {
      "cell_type": "code",
      "execution_count": 10,
      "id": "56e4049b",
      "metadata": {
        "id": "56e4049b",
        "outputId": "3c6c2be9-522a-4bf2-daac-284e7def3d42",
        "colab": {
          "base_uri": "https://localhost:8080/"
        }
      },
      "outputs": [
        {
          "output_type": "stream",
          "name": "stdout",
          "text": [
            "['pizza', 'falafel', 'carrot cake', 'cannoli']\n",
            "['pizza', 'falafel', 'carrot cake', 'icecream']\n"
          ]
        }
      ],
      "source": [
        "list_food_my=['pizza', 'falafel', 'carrot cake']\n",
        "list_food_friend=[i for i in list_food_my]\n",
        "list_food_my.append(\"cannoli\")\n",
        "list_food_friend.append(\"icecream\")\n",
        "print(list_food_my)\n",
        "print(list_food_friend)\n"
      ]
    },
    {
      "cell_type": "markdown",
      "id": "b49f5c95",
      "metadata": {
        "id": "b49f5c95"
      },
      "source": [
        "#### 5. Alice, David, and Carolina are three magicians. Print the message to each magicians to the console using the template given below.\n",
        "\n",
        "1. Name of magician, that was a great trick!\n",
        "\n",
        "2. I am running out of time to see your next trick, Name of the magician.\n",
        "\n",
        "3. At the end say \"Thank you all, that is a great magic show!\""
      ]
    },
    {
      "cell_type": "code",
      "execution_count": 12,
      "id": "73bced6a",
      "metadata": {
        "id": "73bced6a",
        "outputId": "ede86efa-9c49-458a-a114-0a341ff18cdc",
        "colab": {
          "base_uri": "https://localhost:8080/"
        }
      },
      "outputs": [
        {
          "output_type": "stream",
          "name": "stdout",
          "text": [
            "Alice  that was a great trick\n",
            "I am running out of time to see your next trick Alice\n",
            "Thank you all, that is a great magic show!\n",
            "\n",
            "David  that was a great trick\n",
            "I am running out of time to see your next trick David\n",
            "Thank you all, that is a great magic show!\n",
            "\n",
            "Carolina  that was a great trick\n",
            "I am running out of time to see your next trick Carolina\n",
            "Thank you all, that is a great magic show!\n",
            "\n"
          ]
        }
      ],
      "source": [
        "list_of_magicians=['Alice', 'David',  'Carolina' ]\n",
        "for i in list_of_magicians:\n",
        "  print(i,\" that was a great trick\")\n",
        "  print(\"I am running out of time to see your next trick {}\".format(i))\n",
        "  print(\"Thank you all, that is a great magic show!\\n\")"
      ]
    },
    {
      "cell_type": "markdown",
      "id": "ee23756a",
      "metadata": {
        "id": "ee23756a"
      },
      "source": [
        "#### 6. List the numbers in range 100-106 to the console."
      ]
    },
    {
      "cell_type": "code",
      "execution_count": 16,
      "id": "b26a0ede",
      "metadata": {
        "id": "b26a0ede",
        "outputId": "ecf147ba-a6b5-4462-d7fe-dd5a2ba3e7ff",
        "colab": {
          "base_uri": "https://localhost:8080/"
        }
      },
      "outputs": [
        {
          "output_type": "stream",
          "name": "stdout",
          "text": [
            "100\n",
            "101\n",
            "102\n",
            "103\n",
            "104\n",
            "105\n",
            "106\n"
          ]
        }
      ],
      "source": [
        "import numpy as np\n",
        "for i in range(100,107):\n",
        "  print(i)"
      ]
    },
    {
      "cell_type": "markdown",
      "id": "1e835d9d",
      "metadata": {
        "id": "1e835d9d"
      },
      "source": [
        "#### 7a. Given the list of players in a team 'charles', 'martina', 'michael', 'florence', 'eli', print the first three players to console"
      ]
    },
    {
      "cell_type": "code",
      "execution_count": 17,
      "id": "1d105736",
      "metadata": {
        "id": "1d105736",
        "outputId": "43ac1a2c-ef95-408b-8356-4b45a4406db8",
        "colab": {
          "base_uri": "https://localhost:8080/"
        }
      },
      "outputs": [
        {
          "output_type": "stream",
          "name": "stdout",
          "text": [
            "['charles', 'martina', 'michael']\n"
          ]
        }
      ],
      "source": [
        "list_players=[ 'charles', 'martina', 'michael', 'florence', 'eli']\n",
        "print(list_players[:3])"
      ]
    },
    {
      "cell_type": "markdown",
      "id": "8c2f7217",
      "metadata": {
        "id": "8c2f7217"
      },
      "source": [
        "#### 7b. Given the list of players in a team 'charles', 'martina', 'michael', 'florence', 'eli', print all the players in the team except 'Alen Eli' using indexing and slicing."
      ]
    },
    {
      "cell_type": "code",
      "execution_count": 18,
      "id": "59c037c3",
      "metadata": {
        "id": "59c037c3",
        "outputId": "acbc325d-d7aa-4ffb-cf39-6b466cfdf404",
        "colab": {
          "base_uri": "https://localhost:8080/"
        }
      },
      "outputs": [
        {
          "output_type": "stream",
          "name": "stdout",
          "text": [
            "['charles', 'martina', 'michael', 'florence']\n"
          ]
        }
      ],
      "source": [
        "list_players=[ 'charles', 'martina', 'michael', 'florence', 'eli']\n",
        "print(list_players[:-1])"
      ]
    },
    {
      "cell_type": "markdown",
      "id": "1c866c98",
      "metadata": {
        "id": "1c866c98"
      },
      "source": [
        "#### 7c. Given the list of players in a team 'charles', 'martina', 'michael', 'florence', 'eli', print all the players in the team without using indexing and slicing."
      ]
    },
    {
      "cell_type": "code",
      "execution_count": 19,
      "id": "bff96389",
      "metadata": {
        "id": "bff96389",
        "outputId": "2d8a5903-8261-490a-8c7e-dc008cd433a2",
        "colab": {
          "base_uri": "https://localhost:8080/"
        }
      },
      "outputs": [
        {
          "output_type": "stream",
          "name": "stdout",
          "text": [
            "charles\n",
            "martina\n",
            "michael\n",
            "florence\n",
            "eli\n"
          ]
        }
      ],
      "source": [
        "list_players=[ 'charles', 'martina', 'michael', 'florence', 'eli']\n",
        "for i in list_players:\n",
        "  print(i)"
      ]
    },
    {
      "cell_type": "markdown",
      "id": "f4449334",
      "metadata": {
        "id": "f4449334"
      },
      "source": [
        "#### 8. Correct the code below to print the list of squares "
      ]
    },
    {
      "cell_type": "code",
      "execution_count": 27,
      "id": "c364b9ac",
      "metadata": {
        "id": "c364b9ac",
        "outputId": "30075d40-227f-4cf0-b253-f99511f0e4af",
        "colab": {
          "base_uri": "https://localhost:8080/"
        }
      },
      "outputs": [
        {
          "output_type": "stream",
          "name": "stdout",
          "text": [
            "[1, 4, 9, 16, 25, 36, 49, 64, 81, 100]\n"
          ]
        }
      ],
      "source": [
        "squares = []\n",
        "for value in range(1,11):\n",
        "    square = value**2\n",
        "    squares.append(square)\n",
        "print(squares)"
      ]
    },
    {
      "cell_type": "markdown",
      "id": "4d187c55",
      "metadata": {
        "id": "4d187c55"
      },
      "source": [
        "#### 9. The Amusement park has announced the entry fee as shown in Table 1. The visitors above 65 Years are not allowed to takes rides and admission cost is zero. Having read the age of a visitor on console, calculate the admission cost in $. Also, print the appropriate message for visitors above 65 Yrs."
      ]
    },
    {
      "cell_type": "markdown",
      "id": "152f6024",
      "metadata": {
        "id": "152f6024"
      },
      "source": [
        "![image-4.png](attachment:image-4.png)"
      ]
    },
    {
      "cell_type": "code",
      "execution_count": 28,
      "id": "35e42705",
      "metadata": {
        "id": "35e42705",
        "outputId": "49606e39-1050-4ac0-a38c-442290e952ca",
        "colab": {
          "base_uri": "https://localhost:8080/"
        }
      },
      "outputs": [
        {
          "output_type": "stream",
          "name": "stdout",
          "text": [
            "15\n",
            "Ride fee:  10.5\n"
          ]
        }
      ],
      "source": [
        "age = int(input())\n",
        "def price(age):\n",
        "  if age <= 4:\n",
        "    return 0\n",
        "  elif age <= 18:\n",
        "    return 10.5\n",
        "  elif age <= 40:\n",
        "    return 10\n",
        "  elif age <= 65:\n",
        "    return 5.5\n",
        "  else:\n",
        "    return -1\n",
        "p = price(age)\n",
        "if p == -1:\n",
        "  print(\"Sorry! You can't take any rides.\")\n",
        "else:\n",
        "  print(\"Ride fee: \" , p)"
      ]
    },
    {
      "cell_type": "markdown",
      "id": "dd3f9a94",
      "metadata": {
        "id": "dd3f9a94"
      },
      "source": [
        "#### 10. A Media group is looking for responses to their article from users. However the cyber securty team of the group want to block the banned users viz 'Albert', 'Angle Carolina', 'John David' from posting responses to media contents. If the user 'Tony Marie' is not in the banned listed print message to the user to post response."
      ]
    },
    {
      "cell_type": "code",
      "execution_count": 29,
      "id": "54d5de8f",
      "metadata": {
        "id": "54d5de8f",
        "outputId": "22b68562-611b-459f-f04b-d4df89c534bc",
        "colab": {
          "base_uri": "https://localhost:8080/"
        }
      },
      "outputs": [
        {
          "output_type": "stream",
          "name": "stdout",
          "text": [
            "Tony Marie is not in the banned list, so you can posst your content\n"
          ]
        }
      ],
      "source": [
        "banned = ['Albert', 'Angle Carolina', 'John David']\n",
        "try:\n",
        "    banned.index('Tony Marie')\n",
        "except:\n",
        "    print('Tony Marie'+' is not in the banned list, so you can posst your content')"
      ]
    },
    {
      "cell_type": "code",
      "execution_count": null,
      "id": "7c1d9d11",
      "metadata": {
        "id": "7c1d9d11"
      },
      "outputs": [],
      "source": [
        ""
      ]
    },
    {
      "cell_type": "code",
      "execution_count": null,
      "id": "8fdc9bcf",
      "metadata": {
        "id": "8fdc9bcf"
      },
      "outputs": [],
      "source": [
        ""
      ]
    },
    {
      "cell_type": "code",
      "execution_count": null,
      "id": "e1102379",
      "metadata": {
        "id": "e1102379"
      },
      "outputs": [],
      "source": [
        ""
      ]
    },
    {
      "cell_type": "code",
      "execution_count": null,
      "id": "e972f75d",
      "metadata": {
        "id": "e972f75d"
      },
      "outputs": [],
      "source": [
        ""
      ]
    },
    {
      "cell_type": "code",
      "execution_count": null,
      "id": "72018935",
      "metadata": {
        "id": "72018935"
      },
      "outputs": [],
      "source": [
        ""
      ]
    },
    {
      "cell_type": "code",
      "execution_count": null,
      "id": "248336e3",
      "metadata": {
        "id": "248336e3"
      },
      "outputs": [],
      "source": [
        ""
      ]
    },
    {
      "cell_type": "code",
      "execution_count": null,
      "id": "fb7b5d09",
      "metadata": {
        "id": "fb7b5d09"
      },
      "outputs": [],
      "source": [
        ""
      ]
    }
  ],
  "metadata": {
    "kernelspec": {
      "display_name": "Python 3 (ipykernel)",
      "language": "python",
      "name": "python3"
    },
    "language_info": {
      "codemirror_mode": {
        "name": "ipython",
        "version": 3
      },
      "file_extension": ".py",
      "mimetype": "text/x-python",
      "name": "python",
      "nbconvert_exporter": "python",
      "pygments_lexer": "ipython3",
      "version": "3.10.2"
    },
    "colab": {
      "name": "01-MAY-2022 Pandas Tutorial .ipynb",
      "provenance": []
    }
  },
  "nbformat": 4,
  "nbformat_minor": 5
}