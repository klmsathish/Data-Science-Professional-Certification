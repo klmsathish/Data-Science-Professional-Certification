{
 "cells": [
  {
   "cell_type": "markdown",
   "id": "737120a8",
   "metadata": {},
   "source": [
    "# Day - 1 Pandas Tutorial"
   ]
  },
  {
   "cell_type": "markdown",
   "id": "20a9e4b5",
   "metadata": {},
   "source": [
    "#### 1. Given a list of bicycle types 'trek', 'cannondale', 'redline', 'specialized' print the third type of bicycle to the console in the form \"My first bicycle was a ..........\""
   ]
  },
  {
   "cell_type": "code",
   "execution_count": null,
   "id": "474ffb99",
   "metadata": {},
   "outputs": [],
   "source": []
  },
  {
   "cell_type": "markdown",
   "id": "8b3f5da9",
   "metadata": {},
   "source": [
    "#### 2. Give the list of cars model 'bmw', 'audi', 'toyota', 'subaru' perform the following operations \n",
    "\n",
    "1. sort the list\n",
    "\n",
    "2. reverse the list\n",
    "\n",
    "3. Print the original list"
   ]
  },
  {
   "cell_type": "code",
   "execution_count": null,
   "id": "fdfd3339",
   "metadata": {},
   "outputs": [],
   "source": []
  },
  {
   "cell_type": "markdown",
   "id": "576a94d0",
   "metadata": {},
   "source": [
    "#### 3. Given the list of motorvehicle's brand 'honda', 'yamaha', 'suzuki', 'ducati' a customer finds Ducati is much expensive. Hence remove the brand from the list and display the new list with a message to customer."
   ]
  },
  {
   "cell_type": "code",
   "execution_count": null,
   "id": "d4fb2283",
   "metadata": {},
   "outputs": [],
   "source": []
  },
  {
   "cell_type": "code",
   "execution_count": null,
   "id": "d7a338b9",
   "metadata": {},
   "outputs": [],
   "source": []
  },
  {
   "cell_type": "code",
   "execution_count": null,
   "id": "a11aa35a",
   "metadata": {},
   "outputs": [],
   "source": []
  },
  {
   "cell_type": "markdown",
   "id": "7a1016f3",
   "metadata": {},
   "source": [
    "#### 4. Your are decided to call for party and listed your faviourite food items such as 'pizza', 'falafel', 'carrot cake'. Later you came to know your friends want to add icecream to your list. Also, you want to add new food item 'cannoli' to your list. Update your item list and your firend's list seperately and print to the console."
   ]
  },
  {
   "cell_type": "code",
   "execution_count": null,
   "id": "56e4049b",
   "metadata": {},
   "outputs": [],
   "source": []
  },
  {
   "cell_type": "markdown",
   "id": "b49f5c95",
   "metadata": {},
   "source": [
    "#### 5. Alice, David, and Carolina are three magicians. Print the message to each magicians to the console using the template given below.\n",
    "\n",
    "1. Name of magician, that was a great trick!\n",
    "\n",
    "2. I am running out of time to see your next trick, Name of the magician.\n",
    "\n",
    "3. At the end say \"Thank you all, that is a great magic show!\""
   ]
  },
  {
   "cell_type": "code",
   "execution_count": null,
   "id": "73bced6a",
   "metadata": {},
   "outputs": [],
   "source": []
  },
  {
   "cell_type": "markdown",
   "id": "ee23756a",
   "metadata": {},
   "source": [
    "#### 6. List the numbers in range 100-106 to the console."
   ]
  },
  {
   "cell_type": "code",
   "execution_count": null,
   "id": "b26a0ede",
   "metadata": {},
   "outputs": [],
   "source": []
  },
  {
   "cell_type": "markdown",
   "id": "1e835d9d",
   "metadata": {},
   "source": [
    "#### 7a. Given the list of players in a team 'charles', 'martina', 'michael', 'florence', 'eli', print the first three players to console"
   ]
  },
  {
   "cell_type": "code",
   "execution_count": null,
   "id": "1d105736",
   "metadata": {},
   "outputs": [],
   "source": []
  },
  {
   "cell_type": "markdown",
   "id": "8c2f7217",
   "metadata": {},
   "source": [
    "#### 7b. Given the list of players in a team 'charles', 'martina', 'michael', 'florence', 'eli', print all the players in the team except 'Alen Eli' using indexing and slicing."
   ]
  },
  {
   "cell_type": "code",
   "execution_count": null,
   "id": "59c037c3",
   "metadata": {},
   "outputs": [],
   "source": []
  },
  {
   "cell_type": "markdown",
   "id": "1c866c98",
   "metadata": {},
   "source": [
    "#### 7c. Given the list of players in a team 'charles', 'martina', 'michael', 'florence', 'eli', print all the players in the team without using indexing and slicing."
   ]
  },
  {
   "cell_type": "code",
   "execution_count": null,
   "id": "bff96389",
   "metadata": {},
   "outputs": [],
   "source": []
  },
  {
   "cell_type": "markdown",
   "id": "f4449334",
   "metadata": {},
   "source": [
    "#### 8. Correct the code below to print the list of squares "
   ]
  },
  {
   "cell_type": "code",
   "execution_count": null,
   "id": "c364b9ac",
   "metadata": {},
   "outputs": [],
   "source": []
  },
  {
   "cell_type": "code",
   "execution_count": null,
   "id": "addaa035",
   "metadata": {},
   "outputs": [],
   "source": []
  },
  {
   "cell_type": "markdown",
   "id": "4d187c55",
   "metadata": {},
   "source": [
    "#### 9. The Amusement park has announced the entry fee as shown in Table 1. The visitors above 65 Years are not allowed to takes rides and admission cost is zero. Having read the age of a visitor on console, calculate the admission cost in $. Also, print the appropriate message for visitors above 65 Yrs."
   ]
  },
  {
   "attachments": {
    "image-4.png": {
     "image/png": "[encoded data removed]"
    }
   },
   "cell_type": "markdown",
   "id": "152f6024",
   "metadata": {},
   "source": [
    "![image-4.png](attachment:image-4.png)"
   ]
  },
  {
   "cell_type": "code",
   "execution_count": null,
   "id": "35e42705",
   "metadata": {},
   "outputs": [],
   "source": []
  },
  {
   "cell_type": "markdown",
   "id": "dd3f9a94",
   "metadata": {},
   "source": [
    "#### 10. A Media group is looking for responses to their article from users. However the cyber securty team of the group want to block the banned users viz 'Albert', 'Angle Carolina', 'John David' from posting responses to media contents. If the user 'Tony Marie' is not in the banned listed print message to the user to post response."
   ]
  },
  {
   "cell_type": "code",
   "execution_count": null,
   "id": "54d5de8f",
   "metadata": {},
   "outputs": [],
   "source": []
  },
  {
   "cell_type": "code",
   "execution_count": null,
   "id": "7c1d9d11",
   "metadata": {},
   "outputs": [],
   "source": []
  },
  {
   "cell_type": "code",
   "execution_count": null,
   "id": "8fdc9bcf",
   "metadata": {},
   "outputs": [],
   "source": []
  },
  {
   "cell_type": "code",
   "execution_count": null,
   "id": "e1102379",
   "metadata": {},
   "outputs": [],
   "source": []
  },
  {
   "cell_type": "code",
   "execution_count": null,
   "id": "e972f75d",
   "metadata": {},
   "outputs": [],
   "source": []
  },
  {
   "cell_type": "code",
   "execution_count": null,
   "id": "72018935",
   "metadata": {},
   "outputs": [],
   "source": []
  },
  {
   "cell_type": "code",
   "execution_count": null,
   "id": "248336e3",
   "metadata": {},
   "outputs": [],
   "source": []
  },
  {
   "cell_type": "code",
   "execution_count": null,
   "id": "fb7b5d09",
   "metadata": {},
   "outputs": [],
   "source": []
  }
 ],
 "metadata": {
  "kernelspec": {
   "display_name": "Python 3 (ipykernel)",
   "language": "python",
   "name": "python3"
  },
  "language_info": {
   "codemirror_mode": {
    "name": "ipython",
    "version": 3
   },
   "file_extension": ".py",
   "mimetype": "text/x-python",
   "name": "python",
   "nbconvert_exporter": "python",
   "pygments_lexer": "ipython3",
   "version": "3.10.2"
  }
 },
 "nbformat": 4,
 "nbformat_minor": 5
}
