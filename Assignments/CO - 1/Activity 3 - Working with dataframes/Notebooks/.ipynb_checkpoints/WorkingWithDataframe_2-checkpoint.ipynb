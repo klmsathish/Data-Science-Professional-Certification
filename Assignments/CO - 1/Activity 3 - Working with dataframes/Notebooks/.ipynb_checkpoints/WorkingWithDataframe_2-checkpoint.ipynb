{
 "cells": [
  {
   "cell_type": "code",
   "execution_count": 4,
   "metadata": {
    "id": "6eVIz1Wb-Orw"
   },
   "outputs": [],
   "source": [
    "import pandas as pd\n",
    "import numpy as np"
   ]
  },
  {
   "cell_type": "code",
   "execution_count": 6,
   "metadata": {
    "id": "3bE4nxcm-gk-"
   },
   "outputs": [],
   "source": [
    "data=pd.read_csv('../Data/Salaries.csv')"
   ]
  },
  {
   "cell_type": "code",
   "execution_count": 7,
   "metadata": {
    "colab": {
     "base_uri": "https://localhost:8080/",
     "height": 878
    },
    "id": "ZzZGv2yQ-kv-",
    "outputId": "50cd7b2a-2509-4763-a0a5-7e30491b1113"
   },
   "outputs": [
    {
     "data": {
      "text/html": [
       "<div>\n",
       "<style scoped>\n",
       "    .dataframe tbody tr th:only-of-type {\n",
       "        vertical-align: middle;\n",
       "    }\n",
       "\n",
       "    .dataframe tbody tr th {\n",
       "        vertical-align: top;\n",
       "    }\n",
       "\n",
       "    .dataframe thead th {\n",
       "        text-align: right;\n",
       "    }\n",
       "</style>\n",
       "<table border=\"1\" class=\"dataframe\">\n",
       "  <thead>\n",
       "    <tr style=\"text-align: right;\">\n",
       "      <th></th>\n",
       "      <th>Id</th>\n",
       "      <th>EmployeeName</th>\n",
       "      <th>JobTitle</th>\n",
       "      <th>BasePay</th>\n",
       "      <th>OvertimePay</th>\n",
       "      <th>OtherPay</th>\n",
       "      <th>Benefits</th>\n",
       "      <th>TotalPay</th>\n",
       "      <th>TotalPayBenefits</th>\n",
       "      <th>Year</th>\n",
       "      <th>Notes</th>\n",
       "      <th>Agency</th>\n",
       "      <th>Status</th>\n",
       "    </tr>\n",
       "  </thead>\n",
       "  <tbody>\n",
       "    <tr>\n",
       "      <th>0</th>\n",
       "      <td>1</td>\n",
       "      <td>NATHANIEL FORD</td>\n",
       "      <td>GENERAL MANAGER-METROPOLITAN TRANSIT AUTHORITY</td>\n",
       "      <td>167411.18</td>\n",
       "      <td>0.00</td>\n",
       "      <td>400184.25</td>\n",
       "      <td>NaN</td>\n",
       "      <td>567595.43</td>\n",
       "      <td>567595.43</td>\n",
       "      <td>2011</td>\n",
       "      <td>NaN</td>\n",
       "      <td>San Francisco</td>\n",
       "      <td>NaN</td>\n",
       "    </tr>\n",
       "    <tr>\n",
       "      <th>1</th>\n",
       "      <td>2</td>\n",
       "      <td>GARY JIMENEZ</td>\n",
       "      <td>CAPTAIN III (POLICE DEPARTMENT)</td>\n",
       "      <td>155966.02</td>\n",
       "      <td>245131.88</td>\n",
       "      <td>137811.38</td>\n",
       "      <td>NaN</td>\n",
       "      <td>538909.28</td>\n",
       "      <td>538909.28</td>\n",
       "      <td>2011</td>\n",
       "      <td>NaN</td>\n",
       "      <td>San Francisco</td>\n",
       "      <td>NaN</td>\n",
       "    </tr>\n",
       "    <tr>\n",
       "      <th>2</th>\n",
       "      <td>3</td>\n",
       "      <td>ALBERT PARDINI</td>\n",
       "      <td>CAPTAIN III (POLICE DEPARTMENT)</td>\n",
       "      <td>212739.13</td>\n",
       "      <td>106088.18</td>\n",
       "      <td>16452.60</td>\n",
       "      <td>NaN</td>\n",
       "      <td>335279.91</td>\n",
       "      <td>335279.91</td>\n",
       "      <td>2011</td>\n",
       "      <td>NaN</td>\n",
       "      <td>San Francisco</td>\n",
       "      <td>NaN</td>\n",
       "    </tr>\n",
       "    <tr>\n",
       "      <th>3</th>\n",
       "      <td>4</td>\n",
       "      <td>CHRISTOPHER CHONG</td>\n",
       "      <td>WIRE ROPE CABLE MAINTENANCE MECHANIC</td>\n",
       "      <td>77916.00</td>\n",
       "      <td>56120.71</td>\n",
       "      <td>198306.90</td>\n",
       "      <td>NaN</td>\n",
       "      <td>332343.61</td>\n",
       "      <td>332343.61</td>\n",
       "      <td>2011</td>\n",
       "      <td>NaN</td>\n",
       "      <td>San Francisco</td>\n",
       "      <td>NaN</td>\n",
       "    </tr>\n",
       "    <tr>\n",
       "      <th>4</th>\n",
       "      <td>5</td>\n",
       "      <td>PATRICK GARDNER</td>\n",
       "      <td>DEPUTY CHIEF OF DEPARTMENT,(FIRE DEPARTMENT)</td>\n",
       "      <td>134401.60</td>\n",
       "      <td>9737.00</td>\n",
       "      <td>182234.59</td>\n",
       "      <td>NaN</td>\n",
       "      <td>326373.19</td>\n",
       "      <td>326373.19</td>\n",
       "      <td>2011</td>\n",
       "      <td>NaN</td>\n",
       "      <td>San Francisco</td>\n",
       "      <td>NaN</td>\n",
       "    </tr>\n",
       "    <tr>\n",
       "      <th>5</th>\n",
       "      <td>6</td>\n",
       "      <td>DAVID SULLIVAN</td>\n",
       "      <td>ASSISTANT DEPUTY CHIEF II</td>\n",
       "      <td>118602.00</td>\n",
       "      <td>8601.00</td>\n",
       "      <td>189082.74</td>\n",
       "      <td>NaN</td>\n",
       "      <td>316285.74</td>\n",
       "      <td>316285.74</td>\n",
       "      <td>2011</td>\n",
       "      <td>NaN</td>\n",
       "      <td>San Francisco</td>\n",
       "      <td>NaN</td>\n",
       "    </tr>\n",
       "    <tr>\n",
       "      <th>6</th>\n",
       "      <td>7</td>\n",
       "      <td>ALSON LEE</td>\n",
       "      <td>BATTALION CHIEF, (FIRE DEPARTMENT)</td>\n",
       "      <td>92492.01</td>\n",
       "      <td>89062.90</td>\n",
       "      <td>134426.14</td>\n",
       "      <td>NaN</td>\n",
       "      <td>315981.05</td>\n",
       "      <td>315981.05</td>\n",
       "      <td>2011</td>\n",
       "      <td>NaN</td>\n",
       "      <td>San Francisco</td>\n",
       "      <td>NaN</td>\n",
       "    </tr>\n",
       "    <tr>\n",
       "      <th>7</th>\n",
       "      <td>8</td>\n",
       "      <td>DAVID KUSHNER</td>\n",
       "      <td>DEPUTY DIRECTOR OF INVESTMENTS</td>\n",
       "      <td>256576.96</td>\n",
       "      <td>0.00</td>\n",
       "      <td>51322.50</td>\n",
       "      <td>NaN</td>\n",
       "      <td>307899.46</td>\n",
       "      <td>307899.46</td>\n",
       "      <td>2011</td>\n",
       "      <td>NaN</td>\n",
       "      <td>San Francisco</td>\n",
       "      <td>NaN</td>\n",
       "    </tr>\n",
       "    <tr>\n",
       "      <th>8</th>\n",
       "      <td>9</td>\n",
       "      <td>MICHAEL MORRIS</td>\n",
       "      <td>BATTALION CHIEF, (FIRE DEPARTMENT)</td>\n",
       "      <td>176932.64</td>\n",
       "      <td>86362.68</td>\n",
       "      <td>40132.23</td>\n",
       "      <td>NaN</td>\n",
       "      <td>303427.55</td>\n",
       "      <td>303427.55</td>\n",
       "      <td>2011</td>\n",
       "      <td>NaN</td>\n",
       "      <td>San Francisco</td>\n",
       "      <td>NaN</td>\n",
       "    </tr>\n",
       "    <tr>\n",
       "      <th>9</th>\n",
       "      <td>10</td>\n",
       "      <td>JOANNE HAYES-WHITE</td>\n",
       "      <td>CHIEF OF DEPARTMENT, (FIRE DEPARTMENT)</td>\n",
       "      <td>285262.00</td>\n",
       "      <td>0.00</td>\n",
       "      <td>17115.73</td>\n",
       "      <td>NaN</td>\n",
       "      <td>302377.73</td>\n",
       "      <td>302377.73</td>\n",
       "      <td>2011</td>\n",
       "      <td>NaN</td>\n",
       "      <td>San Francisco</td>\n",
       "      <td>NaN</td>\n",
       "    </tr>\n",
       "  </tbody>\n",
       "</table>\n",
       "</div>"
      ],
      "text/plain": [
       "   Id        EmployeeName                                        JobTitle  \\\n",
       "0   1      NATHANIEL FORD  GENERAL MANAGER-METROPOLITAN TRANSIT AUTHORITY   \n",
       "1   2        GARY JIMENEZ                 CAPTAIN III (POLICE DEPARTMENT)   \n",
       "2   3      ALBERT PARDINI                 CAPTAIN III (POLICE DEPARTMENT)   \n",
       "3   4   CHRISTOPHER CHONG            WIRE ROPE CABLE MAINTENANCE MECHANIC   \n",
       "4   5     PATRICK GARDNER    DEPUTY CHIEF OF DEPARTMENT,(FIRE DEPARTMENT)   \n",
       "5   6      DAVID SULLIVAN                       ASSISTANT DEPUTY CHIEF II   \n",
       "6   7           ALSON LEE              BATTALION CHIEF, (FIRE DEPARTMENT)   \n",
       "7   8       DAVID KUSHNER                  DEPUTY DIRECTOR OF INVESTMENTS   \n",
       "8   9      MICHAEL MORRIS              BATTALION CHIEF, (FIRE DEPARTMENT)   \n",
       "9  10  JOANNE HAYES-WHITE          CHIEF OF DEPARTMENT, (FIRE DEPARTMENT)   \n",
       "\n",
       "     BasePay  OvertimePay   OtherPay  Benefits   TotalPay  TotalPayBenefits  \\\n",
       "0  167411.18         0.00  400184.25       NaN  567595.43         567595.43   \n",
       "1  155966.02    245131.88  137811.38       NaN  538909.28         538909.28   \n",
       "2  212739.13    106088.18   16452.60       NaN  335279.91         335279.91   \n",
       "3   77916.00     56120.71  198306.90       NaN  332343.61         332343.61   \n",
       "4  134401.60      9737.00  182234.59       NaN  326373.19         326373.19   \n",
       "5  118602.00      8601.00  189082.74       NaN  316285.74         316285.74   \n",
       "6   92492.01     89062.90  134426.14       NaN  315981.05         315981.05   \n",
       "7  256576.96         0.00   51322.50       NaN  307899.46         307899.46   \n",
       "8  176932.64     86362.68   40132.23       NaN  303427.55         303427.55   \n",
       "9  285262.00         0.00   17115.73       NaN  302377.73         302377.73   \n",
       "\n",
       "   Year  Notes         Agency  Status  \n",
       "0  2011    NaN  San Francisco     NaN  \n",
       "1  2011    NaN  San Francisco     NaN  \n",
       "2  2011    NaN  San Francisco     NaN  \n",
       "3  2011    NaN  San Francisco     NaN  \n",
       "4  2011    NaN  San Francisco     NaN  \n",
       "5  2011    NaN  San Francisco     NaN  \n",
       "6  2011    NaN  San Francisco     NaN  \n",
       "7  2011    NaN  San Francisco     NaN  \n",
       "8  2011    NaN  San Francisco     NaN  \n",
       "9  2011    NaN  San Francisco     NaN  "
      ]
     },
     "execution_count": 7,
     "metadata": {},
     "output_type": "execute_result"
    }
   ],
   "source": [
    "data.head(10)"
   ]
  },
  {
   "cell_type": "code",
   "execution_count": 8,
   "metadata": {
    "colab": {
     "base_uri": "https://localhost:8080/"
    },
    "id": "el7OpC-U-mg1",
    "outputId": "ae320feb-09c4-4f5d-d04b-5977ad2e0a98"
   },
   "outputs": [
    {
     "name": "stdout",
     "output_type": "stream",
     "text": [
      "The average base pay is 66325.44884050643\n"
     ]
    }
   ],
   "source": [
    "# what is the average base pay\n",
    "average_basepay=data['BasePay'].mean()\n",
    "print(\"The average base pay is {}\".format(average_basepay))"
   ]
  },
  {
   "cell_type": "code",
   "execution_count": 9,
   "metadata": {
    "colab": {
     "base_uri": "https://localhost:8080/"
    },
    "id": "TwoxVP-e-2RQ",
    "outputId": "5e4141cf-10f7-45bc-a1b4-e59451cc926b"
   },
   "outputs": [
    {
     "name": "stdout",
     "output_type": "stream",
     "text": [
      "The Maximum amount of overtime pay is 245131.88\n",
      "The Minimum amount of overtime pay is -0.01\n"
     ]
    }
   ],
   "source": [
    "# What is the highest and lowest amount of OvertimePay in the dataset?\n",
    "max_overtimepay=data['OvertimePay'].max()\n",
    "print(\"The Maximum amount of overtime pay is {}\".format(max_overtimepay))\n",
    "min_overtimepay=data['OvertimePay'].min()\n",
    "print(\"The Minimum amount of overtime pay is {}\".format(min_overtimepay))"
   ]
  },
  {
   "cell_type": "code",
   "execution_count": 10,
   "metadata": {
    "colab": {
     "base_uri": "https://localhost:8080/"
    },
    "id": "s63rwbBz_mbu",
    "outputId": "d0754a25-3239-420e-fe7b-851f1d02a5ca"
   },
   "outputs": [
    {
     "name": "stdout",
     "output_type": "stream",
     "text": [
      "14    BATTALION CHIEF, (FIRE DEPARTMENT)\n",
      "Name: JobTitle, dtype: object\n"
     ]
    }
   ],
   "source": [
    "# What is the job title of DAVID FRANKLIN?\n",
    "job_title=data[data['EmployeeName']==\"DAVID FRANKLIN\"]['JobTitle']\n",
    "print(job_title)"
   ]
  },
  {
   "cell_type": "code",
   "execution_count": 11,
   "metadata": {
    "colab": {
     "base_uri": "https://localhost:8080/"
    },
    "id": "uYveqgYwAVsw",
    "outputId": "861ddaf1-072e-4300-9c18-767a0af4ca45"
   },
   "outputs": [
    {
     "name": "stdout",
     "output_type": "stream",
     "text": [
      "14    286347.05\n",
      "Name: TotalPayBenefits, dtype: float64\n"
     ]
    }
   ],
   "source": [
    "# How much does DAVID FRANKLIN make(including benefits)?\n",
    "Total_pay=data[data['EmployeeName']==\"DAVID FRANKLIN\"]['TotalPayBenefits']\n",
    "print(Total_pay)"
   ]
  },
  {
   "cell_type": "code",
   "execution_count": 12,
   "metadata": {
    "colab": {
     "base_uri": "https://localhost:8080/"
    },
    "id": "LNZK2sAsAzyJ",
    "outputId": "63004a1b-226a-442d-dac9-faaef0f0ffbf"
   },
   "outputs": [
    {
     "name": "stdout",
     "output_type": "stream",
     "text": [
      "0    NATHANIEL FORD\n",
      "Name: EmployeeName, dtype: object  paid  567595.43\n",
      "148653    Joe Lopez\n",
      "Name: EmployeeName, dtype: object  paid  -618.13\n"
     ]
    }
   ],
   "source": [
    "# What is the name of the lowest and highest paid person (including benefits)?\n",
    "max_payee_name=data[data['TotalPay']==data['TotalPayBenefits'].max()]['EmployeeName']\n",
    "print(max_payee_name,\" paid \",data['TotalPayBenefits'].max() )\n",
    "min_pay_name=data[data['TotalPay']==data['TotalPayBenefits'].min()]['EmployeeName']\n",
    "print(min_pay_name,\" paid \",data['TotalPayBenefits'].min())"
   ]
  },
  {
   "cell_type": "code",
   "execution_count": 13,
   "metadata": {
    "colab": {
     "base_uri": "https://localhost:8080/"
    },
    "id": "j5dOWzYDBW3R",
    "outputId": "19d2f339-81bd-4604-b03c-088f217316da"
   },
   "outputs": [
    {
     "name": "stdout",
     "output_type": "stream",
     "text": [
      "Minimum pay can't be negative\n"
     ]
    }
   ],
   "source": [
    "# Do you notice something strange about how much he or she is paid from the results of Q.5\n",
    "print(\"Minimum pay can't be negative\")\n"
   ]
  },
  {
   "cell_type": "code",
   "execution_count": 14,
   "metadata": {
    "colab": {
     "base_uri": "https://localhost:8080/"
    },
    "id": "eiYIijQXCL2R",
    "outputId": "d9c2c086-6c6e-4804-c4ac-a70091fe67c5"
   },
   "outputs": [
    {
     "name": "stdout",
     "output_type": "stream",
     "text": [
      "Year\n",
      "2011    63595.956517\n",
      "2012    65436.406857\n",
      "2013    69630.030216\n",
      "2014    66564.421924\n",
      "Name: BasePay, dtype: float64\n"
     ]
    }
   ],
   "source": [
    "# What was the average BasePay of all employee per year?\n",
    "grouped = data.groupby('Year')\n",
    "print(grouped['BasePay'].agg(np.mean))"
   ]
  },
  {
   "cell_type": "code",
   "execution_count": 15,
   "metadata": {
    "colab": {
     "base_uri": "https://localhost:8080/"
    },
    "id": "pxMIUlwTDXOC",
    "outputId": "d82686c5-328b-49e3-eb4c-d797561fe020"
   },
   "outputs": [
    {
     "name": "stdout",
     "output_type": "stream",
     "text": [
      "2159\n"
     ]
    }
   ],
   "source": [
    "# How many unique job title are there\n",
    "num_unique_titles=len(data['JobTitle'].unique())\n",
    "print(num_unique_titles)"
   ]
  },
  {
   "cell_type": "code",
   "execution_count": 16,
   "metadata": {
    "colab": {
     "base_uri": "https://localhost:8080/"
    },
    "id": "p_X8lwdSFadF",
    "outputId": "95ebafe6-acc5-4541-cdb0-823cd12ad762"
   },
   "outputs": [
    {
     "name": "stdout",
     "output_type": "stream",
     "text": [
      "most common top 3 jobs\n"
     ]
    },
    {
     "data": {
      "text/plain": [
       "Transit Operator    7036\n",
       "Special Nurse       4389\n",
       "Registered Nurse    3736\n",
       "Name: JobTitle, dtype: int64"
      ]
     },
     "execution_count": 16,
     "metadata": {},
     "output_type": "execute_result"
    }
   ],
   "source": [
    "# List the top 3 most common jobs.\n",
    "print(\"most common top 3 jobs\")\n",
    "data['JobTitle'].value_counts()[:3]"
   ]
  },
  {
   "cell_type": "code",
   "execution_count": 17,
   "metadata": {
    "colab": {
     "base_uri": "https://localhost:8080/"
    },
    "id": "rciVXcHPFjsG",
    "outputId": "45bac9fc-ea79-44d4-bfc1-642c53b995d1"
   },
   "outputs": [
    {
     "name": "stdout",
     "output_type": "stream",
     "text": [
      "Number of only person in 2011 200\n",
      "Number of only person in 2012 190\n",
      "Number of only person in 2013 202\n"
     ]
    }
   ],
   "source": [
    "# .How many job titles were represented by only one person in 2011, 2012, and 2013?\n",
    "data_2011=dict(data[(data['Year']==2011)]['JobTitle'].value_counts())\n",
    "count_2011=0\n",
    "for item,value in data_2011.items():\n",
    "  if value==1:\n",
    "    count_2011+=1\n",
    "print(\"Number of only person in 2011\",count_2011)\n",
    "\n",
    "data_2012=dict(data[(data['Year']==2012)]['JobTitle'].value_counts())\n",
    "count_2012=0\n",
    "for item,value in data_2012.items():\n",
    "  if value==1:\n",
    "    count_2012+=1\n",
    "print(\"Number of only person in 2012\",count_2012)\n",
    "\n",
    "data_2013=dict(data[(data['Year']==2013)]['JobTitle'].value_counts())\n",
    "count_2013=0\n",
    "for item,value in data_2013.items():\n",
    "  if value==1:\n",
    "    count_2013+=1\n",
    "print(\"Number of only person in 2013\",count_2013)\n"
   ]
  },
  {
   "cell_type": "code",
   "execution_count": 18,
   "metadata": {
    "colab": {
     "base_uri": "https://localhost:8080/"
    },
    "id": "lEfZJJ_jGLcT",
    "outputId": "efc1e6ba-af09-499b-f0a0-d73b1b5a87dd"
   },
   "outputs": [
    {
     "name": "stdout",
     "output_type": "stream",
     "text": [
      "Number of people with chief in their job title 423\n"
     ]
    }
   ],
   "source": [
    "# How many people have the word Chief in their job title?\n",
    "count_chiefs=0\n",
    "for i in data['JobTitle']:\n",
    "  if \"Chief\" in i:\n",
    "    count_chiefs+=1\n",
    "print(\"Number of people with chief in their job title\",count_chiefs)"
   ]
  },
  {
   "cell_type": "code",
   "execution_count": 19,
   "metadata": {
    "colab": {
     "base_uri": "https://localhost:8080/",
     "height": 358
    },
    "id": "aMoQ-mtMIV7p",
    "outputId": "0795543b-182d-4d8b-f574-ad75227ef200"
   },
   "outputs": [
    {
     "data": {
      "text/plain": [
       "<AxesSubplot:>"
      ]
     },
     "execution_count": 19,
     "metadata": {},
     "output_type": "execute_result"
    },
    {
     "data": {
      "image/png": "[encoded data removed]",
      "text/plain": [
       "<Figure size 432x288 with 2 Axes>"
      ]
     },
     "metadata": {
      "needs_background": "light"
     },
     "output_type": "display_data"
    }
   ],
   "source": [
    "# Is there a correlation between Job title and Salary?\n",
    "import seaborn as sns\n",
    "sns.heatmap(data.corr())"
   ]
  },
  {
   "cell_type": "code",
   "execution_count": 20,
   "metadata": {
    "colab": {
     "base_uri": "https://localhost:8080/"
    },
    "id": "fAU5q6pAIrE0",
    "outputId": "045496f4-fa6b-45e0-b7f7-c297e1e53488"
   },
   "outputs": [
    {
     "name": "stdout",
     "output_type": "stream",
     "text": [
      "JobTitle\n",
      "ACCOUNT CLERK                                     44035.664337\n",
      "ACCOUNTANT                                        47429.268000\n",
      "ACCOUNTANT INTERN                                 29031.742917\n",
      "ACPO,JuvP, Juv Prob (SFERS)                       62290.780000\n",
      "ACUPUNCTURIST                                     67594.400000\n",
      "                                                      ...     \n",
      "X-RAY LABORATORY AIDE                             52705.880385\n",
      "X-Ray Laboratory Aide                             50823.942700\n",
      "YOUTH COMMISSION ADVISOR, BOARD OF SUPERVISORS    53632.870000\n",
      "Youth Comm Advisor                                41414.307500\n",
      "ZOO CURATOR                                       66686.560000\n",
      "Name: TotalPay, Length: 2159, dtype: float64\n"
     ]
    }
   ],
   "source": [
    "df_group_title=data.groupby('JobTitle')\n",
    "print(df_group_title['TotalPay'].agg(np.mean))\n",
    "# There is a correlation"
   ]
  },
  {
   "cell_type": "code",
   "execution_count": 23,
   "metadata": {
    "id": "xH0vTtX_Jxi3"
   },
   "outputs": [
    {
     "data": {
      "text/plain": [
       "1045"
      ]
     },
     "execution_count": 23,
     "metadata": {},
     "output_type": "execute_result"
    }
   ],
   "source": [
    "len(data[(data['Year']==2011)]['JobTitle'].unique())"
   ]
  },
  {
   "cell_type": "code",
   "execution_count": null,
   "metadata": {},
   "outputs": [],
   "source": []
  }
 ],
 "metadata": {
  "colab": {
   "collapsed_sections": [],
   "name": "Day 1 assingment",
   "provenance": []
  },
  "kernelspec": {
   "display_name": "Python 3",
   "language": "python",
   "name": "python3"
  }
 },
 "nbformat": 4,
 "nbformat_minor": 1
}
