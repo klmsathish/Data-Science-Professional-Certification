{
 "cells": [
  {
   "cell_type": "code",
   "execution_count": 47,
   "id": "c86a774c",
   "metadata": {},
   "outputs": [],
   "source": [
    "# Importing Packages\n",
    "import pandas as pd\n",
    "import numpy as np\n",
    "import random\n",
    "import matplotlib.pyplot as plt\n",
    "import seaborn as sns\n",
    "from scipy import stats"
   ]
  },
  {
   "cell_type": "markdown",
   "id": "d198206e",
   "metadata": {},
   "source": [
    "### 1. Dataset : Create a roughly normally distributed random sample."
   ]
  },
  {
   "cell_type": "code",
   "execution_count": 64,
   "id": "89377c27",
   "metadata": {},
   "outputs": [],
   "source": [
    "random_normal = np.random.normal(0,10,100)"
   ]
  },
  {
   "cell_type": "code",
   "execution_count": 65,
   "id": "aeeabac7",
   "metadata": {},
   "outputs": [
    {
     "data": {
      "text/plain": [
       "<AxesSubplot:ylabel='Density'>"
      ]
     },
     "execution_count": 65,
     "metadata": {},
     "output_type": "execute_result"
    },
    {
     "data": {
      "image/png": "[encoded data removed]",
      "text/plain": [
       "<Figure size 432x288 with 1 Axes>"
      ]
     },
     "metadata": {
      "needs_background": "light"
     },
     "output_type": "display_data"
    }
   ],
   "source": [
    "sns.kdeplot(random_normal)"
   ]
  },
  {
   "cell_type": "markdown",
   "id": "2d8a2765",
   "metadata": {},
   "source": [
    "### 2. Compute the following \n",
    "1. First moment\n",
    "2. Second moment\n",
    "3. Third moment\n",
    "4. Fourth moment "
   ]
  },
  {
   "cell_type": "code",
   "execution_count": 66,
   "id": "e112ec05",
   "metadata": {},
   "outputs": [
    {
     "name": "stdout",
     "output_type": "stream",
     "text": [
      "1st moment : 0.7739092472755\n",
      "2nd moment : 87.55427919273076\n",
      "3rd moment : 0.3705627242157688\n",
      "4th moment : -0.29882924422787527\n"
     ]
    }
   ],
   "source": [
    "# Mean\n",
    "print(\"1st moment :\", random_normal.mean())\n",
    "  \n",
    "#Variance\n",
    "print(\"2nd moment :\", random_normal.var())\n",
    "\n",
    "# Skewness\n",
    "print(\"3rd moment :\", stats.skew(random_normal))\n",
    "  \n",
    "# Kurtosis\n",
    "print(\"4th moment :\", stats.kurtosis(random_normal))"
   ]
  },
  {
   "cell_type": "markdown",
   "id": "35f20907",
   "metadata": {},
   "source": [
    "### 3. Change the normal distribution to be centered around 10 instead of 0.Recompute moments and write your observations. "
   ]
  },
  {
   "cell_type": "code",
   "execution_count": 67,
   "id": "e849cea3",
   "metadata": {},
   "outputs": [],
   "source": [
    "# Changing Mean Value\n",
    "random_normal = np.random.normal(10,10,100)"
   ]
  },
  {
   "cell_type": "code",
   "execution_count": 68,
   "id": "462091e8",
   "metadata": {},
   "outputs": [
    {
     "name": "stdout",
     "output_type": "stream",
     "text": [
      "1st moment : 10.645550557574984\n",
      "2nd moment : 83.047919058915\n",
      "3rd moment : -0.9391182153570207\n",
      "4th moment : 2.2897481360870735\n"
     ]
    }
   ],
   "source": [
    "# Mean\n",
    "print(\"1st moment :\", random_normal.mean())\n",
    "  \n",
    "#Variance\n",
    "print(\"2nd moment :\", random_normal.var())\n",
    "\n",
    "# Skewness\n",
    "print(\"3rd moment :\", stats.skew(random_normal))\n",
    "  \n",
    "# Kurtosis\n",
    "print(\"4th moment :\", stats.kurtosis(random_normal))"
   ]
  },
  {
   "cell_type": "markdown",
   "id": "82bf2556",
   "metadata": {},
   "source": [
    "#### Change in Mean value impacts third moment. It decreases as mean increases"
   ]
  },
  {
   "cell_type": "markdown",
   "id": "d694bf2c",
   "metadata": {},
   "source": [
    "### 4.Is skew near value zero. What is observation on shape of the distribution."
   ]
  },
  {
   "cell_type": "markdown",
   "id": "65180276",
   "metadata": {},
   "source": [
    "#### If skewness value is very less, the graph is normally distributed"
   ]
  }
 ],
 "metadata": {
  "kernelspec": {
   "display_name": "Python 3",
   "language": "python",
   "name": "python3"
  },
  "language_info": {
   "codemirror_mode": {
    "name": "ipython",
    "version": 3
   },
   "file_extension": ".py",
   "mimetype": "text/x-python",
   "name": "python",
   "nbconvert_exporter": "python",
   "pygments_lexer": "ipython3",
   "version": "3.8.10"
  }
 },
 "nbformat": 4,
 "nbformat_minor": 5
}
