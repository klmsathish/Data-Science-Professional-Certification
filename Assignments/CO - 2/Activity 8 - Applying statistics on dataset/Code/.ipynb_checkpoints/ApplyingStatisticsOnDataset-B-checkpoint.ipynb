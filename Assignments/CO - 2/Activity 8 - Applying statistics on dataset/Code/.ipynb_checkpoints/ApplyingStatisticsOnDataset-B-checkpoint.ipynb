{
 "cells": [
  {
   "cell_type": "code",
   "execution_count": 37,
   "id": "bfe119b4",
   "metadata": {},
   "outputs": [],
   "source": [
    "#Importing Packages\n",
    "import pandas as pd\n",
    "import numpy as np\n",
    "import matplotlib.pyplot as plt\n",
    "import seaborn as sns\n",
    "from statistics import mode"
   ]
  },
  {
   "cell_type": "code",
   "execution_count": 2,
   "id": "2c07c83e",
   "metadata": {},
   "outputs": [],
   "source": [
    "# Importing Data\n",
    "df_amir = pd.read_csv(\"../Data/amir_deals.csv\")"
   ]
  },
  {
   "cell_type": "markdown",
   "id": "e9627dce",
   "metadata": {},
   "source": [
    "### 1. Count the deals for each product"
   ]
  },
  {
   "cell_type": "code",
   "execution_count": 5,
   "id": "12842b62",
   "metadata": {},
   "outputs": [
    {
     "name": "stdout",
     "output_type": "stream",
     "text": [
      "Product B    62\n",
      "Product D    40\n",
      "Product A    23\n",
      "Product C    15\n",
      "Product F    11\n",
      "Product H     8\n",
      "Product I     7\n",
      "Product E     5\n",
      "Product N     3\n",
      "Product G     2\n",
      "Product J     2\n",
      "Name: product, dtype: int64\n"
     ]
    }
   ],
   "source": [
    "# Count the deals for each product\n",
    "counts = df_amir['product'].value_counts()\n",
    "print(counts)"
   ]
  },
  {
   "cell_type": "markdown",
   "id": "4e3f5fea",
   "metadata": {},
   "source": [
    "### 2. Calculate probability of picking a deal with each product"
   ]
  },
  {
   "cell_type": "code",
   "execution_count": 7,
   "id": "c696ae6d",
   "metadata": {},
   "outputs": [
    {
     "name": "stdout",
     "output_type": "stream",
     "text": [
      "Product B    0.348315\n",
      "Product D    0.224719\n",
      "Product A    0.129213\n",
      "Product C    0.084270\n",
      "Product F    0.061798\n",
      "Product H    0.044944\n",
      "Product I    0.039326\n",
      "Product E    0.028090\n",
      "Product N    0.016854\n",
      "Product G    0.011236\n",
      "Product J    0.011236\n",
      "Name: product, dtype: float64\n"
     ]
    }
   ],
   "source": [
    "# Calculate probability of picking a deal with each product\n",
    "probs = counts / len(df_amir['product'])\n",
    "print(probs)"
   ]
  },
  {
   "cell_type": "markdown",
   "id": "8d614a92",
   "metadata": {},
   "source": [
    "### 3. If you randomly select one of Amir's deals, what's the probability that the deal will involve ProductC?"
   ]
  },
  {
   "cell_type": "code",
   "execution_count": 17,
   "id": "8099c769",
   "metadata": {},
   "outputs": [
    {
     "name": "stdout",
     "output_type": "stream",
     "text": [
      "8.426966292134832\n"
     ]
    }
   ],
   "source": [
    "print(probs[3]*100)"
   ]
  },
  {
   "cell_type": "markdown",
   "id": "89dd3da5",
   "metadata": {},
   "source": [
    "### 4. Sample 5 deals with replacement."
   ]
  },
  {
   "cell_type": "code",
   "execution_count": 19,
   "id": "ac889008",
   "metadata": {},
   "outputs": [
    {
     "name": "stdout",
     "output_type": "stream",
     "text": [
      "     Unnamed: 0  Unnamed: 0.1    product   client status   amount  num_users\n",
      "127         127           128  Product B  Current    Won  2070.25          7\n",
      "148         148           149  Product D  Current    Won  3485.48         52\n",
      "77           77            78  Product B  Current    Won  6252.30         27\n",
      "104         104           105  Product D  Current    Won  4110.98         39\n",
      "166         166           167  Product C      New   Lost  3779.86         11\n"
     ]
    }
   ],
   "source": [
    "# Set random seed\n",
    "np.random.seed(24)\n",
    "\n",
    "# Sample 5 deals without replacement\n",
    "sample_without_replacement = df_amir.sample(5, replace = False)\n",
    "print(sample_without_replacement)"
   ]
  },
  {
   "cell_type": "markdown",
   "id": "74a0128e",
   "metadata": {},
   "source": [
    "### 5. Sample 5 deals without replacement"
   ]
  },
  {
   "cell_type": "code",
   "execution_count": 22,
   "id": "7f0c847b",
   "metadata": {},
   "outputs": [
    {
     "name": "stdout",
     "output_type": "stream",
     "text": [
      "     Unnamed: 0  Unnamed: 0.1    product   client status   amount  num_users\n",
      "133         133           134  Product D  Current    Won  5992.86         98\n",
      "101         101           102  Product H  Current    Won  5116.34         63\n",
      "110         110           111  Product B  Current    Won   696.88         44\n",
      "49           49            50  Product B  Current    Won  3488.36         79\n",
      "56           56            57  Product D  Current    Won  6820.84         42\n"
     ]
    }
   ],
   "source": [
    "# Sample 5 deals with replacement\n",
    "sample_with_replacement = df_amir.sample(5, replace = True)\n",
    "print(sample_with_replacement)"
   ]
  },
  {
   "cell_type": "markdown",
   "id": "62f8653a",
   "metadata": {},
   "source": [
    "### 6. Plot the distribution of Amir' sales with bin size 10."
   ]
  },
  {
   "cell_type": "code",
   "execution_count": 26,
   "id": "cebd2492",
   "metadata": {},
   "outputs": [
    {
     "name": "stderr",
     "output_type": "stream",
     "text": [
      "C:\\Users\\klmsa\\anaconda3\\lib\\site-packages\\seaborn\\distributions.py:2619: FutureWarning: `distplot` is a deprecated function and will be removed in a future version. Please adapt your code to use either `displot` (a figure-level function with similar flexibility) or `histplot` (an axes-level function for histograms).\n",
      "  warnings.warn(msg, FutureWarning)\n"
     ]
    },
    {
     "data": {
      "text/plain": [
       "<AxesSubplot:xlabel='amount', ylabel='Density'>"
      ]
     },
     "execution_count": 26,
     "metadata": {},
     "output_type": "execute_result"
    },
    {
     "data": {
      "image/png": "[encoded data removed]",
      "text/plain": [
       "<Figure size 432x288 with 1 Axes>"
      ]
     },
     "metadata": {
      "needs_background": "light"
     },
     "output_type": "display_data"
    }
   ],
   "source": [
    "# Plot the distribution of Amir' sales with bin size 10.\n",
    "sns.distplot(df_amir['amount'], bins=10)"
   ]
  },
  {
   "cell_type": "markdown",
   "id": "d5a22ad4",
   "metadata": {},
   "source": [
    "### 7. Calculate measures of central tendency."
   ]
  },
  {
   "cell_type": "code",
   "execution_count": 39,
   "id": "3fcd2519",
   "metadata": {},
   "outputs": [
    {
     "name": "stdout",
     "output_type": "stream",
     "text": [
      "Mean - 4812.000337078652\n",
      "Median - 4805.1900000000005\n",
      "Mode -  7389.52\n"
     ]
    }
   ],
   "source": [
    "print(\"Mean -\",df_amir['amount'].mean())\n",
    "print(\"Median -\",df_amir['amount'].median())\n",
    "print(\"Mode - \",mode(df_amir['amount']))"
   ]
  },
  {
   "cell_type": "markdown",
   "id": "d61f7a34",
   "metadata": {},
   "source": [
    "### 8. Compute the probability of deal < $7500."
   ]
  },
  {
   "cell_type": "code",
   "execution_count": 43,
   "id": "e613088e",
   "metadata": {},
   "outputs": [
    {
     "name": "stdout",
     "output_type": "stream",
     "text": [
      "probability of deal < $7500 - 0.9101123595505618\n"
     ]
    }
   ],
   "source": [
    "#Compute the probability of deal < $7500.\n",
    "prob_less_than_7500 = df_amir['amount'].where(df_amir['amount'] < 7500).count() / len(df_amir['amount'])\n",
    "print(\"probability of deal < $7500 -\",prob_less_than_7500)"
   ]
  },
  {
   "cell_type": "markdown",
   "id": "7572f3ff",
   "metadata": {},
   "source": [
    "### 9. Compute probability of deal > $1000"
   ]
  },
  {
   "cell_type": "code",
   "execution_count": 45,
   "id": "d2d87fa4",
   "metadata": {},
   "outputs": [
    {
     "name": "stdout",
     "output_type": "stream",
     "text": [
      "probability of deal > $1000 - 0.9719101123595506\n"
     ]
    }
   ],
   "source": [
    "#Compute the probability of deal > $1000.\n",
    "prob_more_than_1000 = df_amir['amount'].where(df_amir['amount'] > 1000).count() / len(df_amir['amount'])\n",
    "print(\"probability of deal > $1000 -\",prob_more_than_1000)"
   ]
  },
  {
   "cell_type": "markdown",
   "id": "e6b6a82c",
   "metadata": {},
   "source": [
    "### 10. Probability of deal between 3000 and 7000"
   ]
  },
  {
   "cell_type": "code",
   "execution_count": 46,
   "id": "5d2218ff",
   "metadata": {},
   "outputs": [
    {
     "name": "stdout",
     "output_type": "stream",
     "text": [
      "0.6741573033707865\n"
     ]
    }
   ],
   "source": [
    "#Probability of deal between 3000 and 7000\n",
    "prob_between_3000_7000 = df_amir['amount'].where((df_amir['amount'] > 3000) & (df_amir['amount'] < 7000)).count() / len(df_amir['amount'])\n",
    "print(prob_between_3000_7000)"
   ]
  },
  {
   "cell_type": "markdown",
   "id": "9ea011f6",
   "metadata": {},
   "source": [
    "### 11.Compute Percent point function (inverse of cdf — percentiles) Calculate amount that 25% of deals will be less than. Write your observation on how 75% of time Amir make the sales. How this figure help him in business planning? "
   ]
  },
  {
   "cell_type": "code",
   "execution_count": 48,
   "id": "9bdda7e6",
   "metadata": {},
   "outputs": [
    {
     "name": "stdout",
     "output_type": "stream",
     "text": [
      "0.29213483146067415\n"
     ]
    }
   ],
   "source": [
    "from scipy.stats import norm\n",
    "pct_25 = norm.ppf(0.25, 5000, 2000)\n",
    "\n",
    "print(df_amir.where(df_amir['amount'] < pct_25)['amount'].count() / len(df_amir['amount']))\n",
    "# this value hlps how amir makes 25% of the sales"
   ]
  }
 ],
 "metadata": {
  "kernelspec": {
   "display_name": "Python 3",
   "language": "python",
   "name": "python3"
  },
  "language_info": {
   "codemirror_mode": {
    "name": "ipython",
    "version": 3
   },
   "file_extension": ".py",
   "mimetype": "text/x-python",
   "name": "python",
   "nbconvert_exporter": "python",
   "pygments_lexer": "ipython3",
   "version": "3.8.10"
  }
 },
 "nbformat": 4,
 "nbformat_minor": 5
}
