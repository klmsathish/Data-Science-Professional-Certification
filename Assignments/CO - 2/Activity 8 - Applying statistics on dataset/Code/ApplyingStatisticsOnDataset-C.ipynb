{
 "cells": [
  {
   "cell_type": "code",
   "execution_count": 1,
   "id": "af57b687",
   "metadata": {},
   "outputs": [],
   "source": [
    "#Importing Packages\n",
    "import pandas as pd\n",
    "import numpy as np\n",
    "import matplotlib.pyplot as plt\n",
    "import seaborn as sns\n",
    "from statistics import mode"
   ]
  },
  {
   "cell_type": "code",
   "execution_count": 3,
   "id": "779de09e",
   "metadata": {},
   "outputs": [
    {
     "data": {
      "text/html": [
       "<div>\n",
       "<style scoped>\n",
       "    .dataframe tbody tr th:only-of-type {\n",
       "        vertical-align: middle;\n",
       "    }\n",
       "\n",
       "    .dataframe tbody tr th {\n",
       "        vertical-align: top;\n",
       "    }\n",
       "\n",
       "    .dataframe thead th {\n",
       "        text-align: right;\n",
       "    }\n",
       "</style>\n",
       "<table border=\"1\" class=\"dataframe\">\n",
       "  <thead>\n",
       "    <tr style=\"text-align: right;\">\n",
       "      <th></th>\n",
       "      <th>group_id</th>\n",
       "      <th>group_size</th>\n",
       "    </tr>\n",
       "  </thead>\n",
       "  <tbody>\n",
       "    <tr>\n",
       "      <th>0</th>\n",
       "      <td>A</td>\n",
       "      <td>2</td>\n",
       "    </tr>\n",
       "    <tr>\n",
       "      <th>1</th>\n",
       "      <td>B</td>\n",
       "      <td>4</td>\n",
       "    </tr>\n",
       "    <tr>\n",
       "      <th>2</th>\n",
       "      <td>C</td>\n",
       "      <td>6</td>\n",
       "    </tr>\n",
       "    <tr>\n",
       "      <th>3</th>\n",
       "      <td>D</td>\n",
       "      <td>2</td>\n",
       "    </tr>\n",
       "    <tr>\n",
       "      <th>4</th>\n",
       "      <td>E</td>\n",
       "      <td>2</td>\n",
       "    </tr>\n",
       "  </tbody>\n",
       "</table>\n",
       "</div>"
      ],
      "text/plain": [
       "  group_id  group_size\n",
       "0        A           2\n",
       "1        B           4\n",
       "2        C           6\n",
       "3        D           2\n",
       "4        E           2"
      ]
     },
     "execution_count": 3,
     "metadata": {},
     "output_type": "execute_result"
    }
   ],
   "source": [
    "# Importing Data\n",
    "restaurant_groups = pd.read_csv('../Data/restaurant_groups.csv')\n",
    "restaurant_groups.head()"
   ]
  },
  {
   "cell_type": "markdown",
   "id": "aaedf9d4",
   "metadata": {},
   "source": [
    "### 1. Create a histogram of restaurant_groups and show plot"
   ]
  },
  {
   "cell_type": "code",
   "execution_count": 5,
   "id": "9eafe2af",
   "metadata": {},
   "outputs": [
    {
     "data": {
      "image/png": "[encoded data removed]",
      "text/plain": [
       "<Figure size 432x288 with 1 Axes>"
      ]
     },
     "metadata": {
      "needs_background": "light"
     },
     "output_type": "display_data"
    }
   ],
   "source": [
    "restaurant_groups['group_size'].hist(bins=[2, 3, 4, 5, 6]);"
   ]
  },
  {
   "cell_type": "markdown",
   "id": "65d09012",
   "metadata": {},
   "source": [
    "### 2. Create probability distribution"
   ]
  },
  {
   "cell_type": "code",
   "execution_count": 6,
   "id": "1e87b1bd",
   "metadata": {},
   "outputs": [],
   "source": [
    "# Create probability distribution\n",
    "size_dist = restaurant_groups['group_size'] / restaurant_groups.shape[0]"
   ]
  },
  {
   "cell_type": "markdown",
   "id": "2834ac6a",
   "metadata": {},
   "source": [
    "### 3. Reset index and rename columns as group_size and prob"
   ]
  },
  {
   "cell_type": "code",
   "execution_count": 7,
   "id": "39459012",
   "metadata": {},
   "outputs": [
    {
     "name": "stdout",
     "output_type": "stream",
     "text": [
      "   group_size  prob\n",
      "0           0   0.2\n",
      "1           1   0.4\n",
      "2           2   0.6\n",
      "3           3   0.2\n",
      "4           4   0.2\n",
      "5           5   0.2\n",
      "6           6   0.3\n",
      "7           7   0.2\n",
      "8           8   0.4\n",
      "9           9   0.2\n"
     ]
    }
   ],
   "source": [
    "size_dist = size_dist.reset_index()\n",
    "size_dist.columns = ['group_size', 'prob']\n",
    "print(size_dist)"
   ]
  },
  {
   "cell_type": "markdown",
   "id": "685195d8",
   "metadata": {},
   "source": [
    "### 4. Calculate expected value"
   ]
  },
  {
   "cell_type": "code",
   "execution_count": 8,
   "id": "b66cb849",
   "metadata": {},
   "outputs": [
    {
     "name": "stdout",
     "output_type": "stream",
     "text": [
      "12.200000000000001\n"
     ]
    }
   ],
   "source": [
    "expected_value = (size_dist['group_size'] * size_dist['prob']).sum()\n",
    "print(expected_value)"
   ]
  },
  {
   "cell_type": "markdown",
   "id": "89557113",
   "metadata": {},
   "source": [
    "### 5. Subset groups of size 4 or more"
   ]
  },
  {
   "cell_type": "code",
   "execution_count": 12,
   "id": "8bfb66c6",
   "metadata": {},
   "outputs": [
    {
     "data": {
      "text/html": [
       "<div>\n",
       "<style scoped>\n",
       "    .dataframe tbody tr th:only-of-type {\n",
       "        vertical-align: middle;\n",
       "    }\n",
       "\n",
       "    .dataframe tbody tr th {\n",
       "        vertical-align: top;\n",
       "    }\n",
       "\n",
       "    .dataframe thead th {\n",
       "        text-align: right;\n",
       "    }\n",
       "</style>\n",
       "<table border=\"1\" class=\"dataframe\">\n",
       "  <thead>\n",
       "    <tr style=\"text-align: right;\">\n",
       "      <th></th>\n",
       "      <th>group_size</th>\n",
       "      <th>prob</th>\n",
       "    </tr>\n",
       "  </thead>\n",
       "  <tbody>\n",
       "    <tr>\n",
       "      <th>4</th>\n",
       "      <td>4</td>\n",
       "      <td>0.2</td>\n",
       "    </tr>\n",
       "    <tr>\n",
       "      <th>5</th>\n",
       "      <td>5</td>\n",
       "      <td>0.2</td>\n",
       "    </tr>\n",
       "    <tr>\n",
       "      <th>6</th>\n",
       "      <td>6</td>\n",
       "      <td>0.3</td>\n",
       "    </tr>\n",
       "    <tr>\n",
       "      <th>7</th>\n",
       "      <td>7</td>\n",
       "      <td>0.2</td>\n",
       "    </tr>\n",
       "    <tr>\n",
       "      <th>8</th>\n",
       "      <td>8</td>\n",
       "      <td>0.4</td>\n",
       "    </tr>\n",
       "    <tr>\n",
       "      <th>9</th>\n",
       "      <td>9</td>\n",
       "      <td>0.2</td>\n",
       "    </tr>\n",
       "  </tbody>\n",
       "</table>\n",
       "</div>"
      ],
      "text/plain": [
       "   group_size  prob\n",
       "4           4   0.2\n",
       "5           5   0.2\n",
       "6           6   0.3\n",
       "7           7   0.2\n",
       "8           8   0.4\n",
       "9           9   0.2"
      ]
     },
     "execution_count": 12,
     "metadata": {},
     "output_type": "execute_result"
    }
   ],
   "source": [
    "groups_4_or_more = size_dist[size_dist['group_size'] >= 4]\n",
    "groups_4_or_more"
   ]
  },
  {
   "cell_type": "markdown",
   "id": "d056b20b",
   "metadata": {},
   "source": [
    "### 6. Sum the probabilities of groups_4_or_more"
   ]
  },
  {
   "cell_type": "code",
   "execution_count": 11,
   "id": "40b2cb00",
   "metadata": {},
   "outputs": [
    {
     "name": "stdout",
     "output_type": "stream",
     "text": [
      "1.4999999999999998\n"
     ]
    }
   ],
   "source": [
    "prob_4_or_more = groups_4_or_more['prob'].sum()\n",
    "print(prob_4_or_more)"
   ]
  }
 ],
 "metadata": {
  "kernelspec": {
   "display_name": "Python 3",
   "language": "python",
   "name": "python3"
  },
  "language_info": {
   "codemirror_mode": {
    "name": "ipython",
    "version": 3
   },
   "file_extension": ".py",
   "mimetype": "text/x-python",
   "name": "python",
   "nbconvert_exporter": "python",
   "pygments_lexer": "ipython3",
   "version": "3.8.10"
  }
 },
 "nbformat": 4,
 "nbformat_minor": 5
}
