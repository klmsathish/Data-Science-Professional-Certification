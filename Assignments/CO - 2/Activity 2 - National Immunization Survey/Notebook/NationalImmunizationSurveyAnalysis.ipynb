{
 "cells": [
  {
   "cell_type": "code",
   "execution_count": 1,
   "id": "a41144a9",
   "metadata": {},
   "outputs": [],
   "source": [
    "import pandas as pd\n",
    "import numpy as np\n",
    "import scipy.stats as stats"
   ]
  },
  {
   "cell_type": "code",
   "execution_count": 2,
   "id": "aba93eee",
   "metadata": {},
   "outputs": [],
   "source": [
    "df_nis = pd.read_csv(\"../Data/NISPUF17.csv\")"
   ]
  },
  {
   "cell_type": "code",
   "execution_count": 3,
   "id": "e12aeea8",
   "metadata": {},
   "outputs": [
    {
     "data": {
      "text/plain": [
       "Unnamed: 0       int64\n",
       "SEQNUMC          int64\n",
       "SEQNUMHH         int64\n",
       "PDAT             int64\n",
       "PROVWT_D       float64\n",
       "                ...   \n",
       "XVRCTY7        float64\n",
       "XVRCTY8        float64\n",
       "XVRCTY9        float64\n",
       "INS_STAT2_I    float64\n",
       "INS_BREAK_I    float64\n",
       "Length: 454, dtype: object"
      ]
     },
     "execution_count": 3,
     "metadata": {},
     "output_type": "execute_result"
    }
   ],
   "source": [
    "df_nis.dtypes"
   ]
  },
  {
   "cell_type": "markdown",
   "id": "5299f270",
   "metadata": {},
   "source": [
    "### Q1. Identify the type of variables and list them."
   ]
  },
  {
   "cell_type": "markdown",
   "id": "f32b0fc7",
   "metadata": {},
   "source": [
    "<table>\n",
    "  <tr>\n",
    "    <th>Feature Name</th>\n",
    "    <th>Levels of Measurement </th>\n",
    "  </tr>\n",
    "  <tr>\n",
    "    <td>SEQNUMC – unique child ID variable</td>\n",
    "    <td>Nominal</td>\n",
    "  </tr>\n",
    "  <tr>\n",
    "    <td>SEQNUMHH – unique household ID variable</td>\n",
    "    <td>Nominal</td>\n",
    "  </tr>\n",
    "   <tr>\n",
    "    <td>ESTIAP17</td>\n",
    "    <td>Nominal</td>\n",
    "  </tr>\n",
    "    <tr>\n",
    "    <td>STATE</td>\n",
    "    <td>Nominal</td>\n",
    "  </tr>\n",
    "    \n",
    "   <tr>\n",
    "    <td>CEN_REG</td>\n",
    "    <td>Nominal</td>\n",
    "  </tr>\n",
    "  <tr>\n",
    "    <td>AGEGRP – age category of child</td>\n",
    "    <td>Interval</td>\n",
    "  </tr>\n",
    "  <tr>\n",
    "    <td>RACEETHK</td>\n",
    "    <td>Nominal</td>\n",
    "  </tr>\n",
    "   <tr>\n",
    "    <td>SEX</td>\n",
    "    <td>Nominal</td>\n",
    "  </tr>\n",
    "    <tr>\n",
    "    <td>FRSTBRN</td>\n",
    "    <td>Nominal</td>\n",
    "  </tr>\n",
    "  <tr>\n",
    "    <td>EDUC1</td>\n",
    "    <td>Nominal</td>\n",
    "  </tr>\n",
    "  <tr>\n",
    "    <td>MARITAL2</td>\n",
    "    <td>Nominal</td>\n",
    "  </tr>\n",
    "   <tr>\n",
    "    <td>M_AGEGRP2</td>\n",
    "    <td>Nominal</td>\n",
    "  </tr>\n",
    "    <tr>\n",
    "    <td>STATE</td>\n",
    "    <td>Nominal</td>\n",
    "  </tr>\n",
    "  \n",
    "</table>"
   ]
  },
  {
   "cell_type": "markdown",
   "id": "24b3190e",
   "metadata": {},
   "source": [
    "### Q2. Write a function called `proportion_of_education` which returns the proportion of children in the dataset who had a mother with the education levels equal to less than high school (<12), high school (12), more than high school but not a college graduate (>12) and college degree."
   ]
  },
  {
   "cell_type": "code",
   "execution_count": 6,
   "id": "3b9d1736",
   "metadata": {},
   "outputs": [
    {
     "data": {
      "text/plain": [
       "{'less than high school': 0.10202002459160373,\n",
       " 'high school': 0.172352011241876,\n",
       " 'more than high school but not college': 0.24588090637625154,\n",
       " 'college': 0.47974705779026877}"
      ]
     },
     "execution_count": 6,
     "metadata": {},
     "output_type": "execute_result"
    }
   ],
   "source": [
    "def proportion_of_education(df):\n",
    "    poe = {\"less than high school\": len(df[df['EDUC1'] == 1])/len(df),\n",
    "            \"high school\": len(df[df['EDUC1'] == 2])/len(df),\n",
    "            \"more than high school but not college\": len(df[df['EDUC1'] == 3])/len(df),\n",
    "            \"college\": len(df[df['EDUC1'] == 4])/len(df)}\n",
    "    return poe\n",
    "\n",
    "proportion_of_education(df_nis)"
   ]
  },
  {
   "cell_type": "markdown",
   "id": "d51b6a99",
   "metadata": {},
   "source": [
    "### 3. Return a tuple of the average number of influenza vaccines for those children we know received nutritious food in childhood and those who know did not."
   ]
  },
  {
   "cell_type": "code",
   "execution_count": 7,
   "id": "ac0b6123",
   "metadata": {},
   "outputs": [
    {
     "data": {
      "text/plain": [
       "(1.8799187420058687, 1.5963945918878317)"
      ]
     },
     "execution_count": 7,
     "metadata": {},
     "output_type": "execute_result"
    }
   ],
   "source": [
    "def average_influenza_doses(df):\n",
    "    \n",
    "    df1 = df[df[\"CBF_01\"] == 1]\n",
    "    df2 = df[df[\"CBF_01\"] == 2]\n",
    "    \n",
    "    return (df1[\"P_NUMFLU\"].mean(), df2[\"P_NUMFLU\"].mean())\n",
    "\n",
    "average_influenza_doses(df_nis)"
   ]
  },
  {
   "cell_type": "markdown",
   "id": "800d6f3d",
   "metadata": {},
   "source": [
    "### 4. Calculate the ratio of the number of children who contracted chickenpox but were vaccinated against it (at least one varicella dose) versus those who were vaccinated but did not contract chicken pox. Return results by gender."
   ]
  },
  {
   "cell_type": "code",
   "execution_count": 14,
   "id": "dfdff7b1",
   "metadata": {},
   "outputs": [
    {
     "data": {
      "text/plain": [
       "{'male': 0.009675583380762664, 'female': 0.0077918259335489565}"
      ]
     },
     "execution_count": 14,
     "metadata": {},
     "output_type": "execute_result"
    }
   ],
   "source": [
    "def chickenpox_by_sex(mb):\n",
    "    \n",
    "    v1m = mb[(mb['P_NUMVRC'] >=1) & (mb['HAD_CPOX'] == 1) & (mb['SEX'] == 1)]\n",
    "    v1f = mb[(mb['P_NUMVRC'] >=1) & (mb['HAD_CPOX'] == 1) & (mb['SEX'] == 2)]\n",
    "    v2m = mb[(mb['P_NUMVRC'] >=1) & (mb['HAD_CPOX'] == 2) & (mb['SEX'] == 1)]\n",
    "    v2f = mb[(mb['P_NUMVRC'] >=1) & (mb['HAD_CPOX'] == 2) & (mb['SEX'] == 2)]\n",
    "    rm = v1m.shape[0]/v2m.shape[0]\n",
    "    rf = v1f.shape[0]/v2f.shape[0]\n",
    "    r = [rm, rf]\n",
    "    sex = ['male', 'female']\n",
    "    d = {}\n",
    "    i = 0\n",
    "    for s in sex:\n",
    "        d[s] = r[i]\n",
    "        i+=1\n",
    "    return d \n",
    "chickenpox_by_sex(df_nis)"
   ]
  },
  {
   "cell_type": "markdown",
   "id": "48b70fc6",
   "metadata": {},
   "source": [
    "### 5. Is there a correlation between having had the chicken pox and the number of chickenpox vaccine doses given (varicella)."
   ]
  },
  {
   "cell_type": "code",
   "execution_count": 12,
   "id": "f435e44b",
   "metadata": {},
   "outputs": [
    {
     "data": {
      "text/plain": [
       "0.07044873460147867"
      ]
     },
     "execution_count": 12,
     "metadata": {},
     "output_type": "execute_result"
    }
   ],
   "source": [
    "def corr_chickenpox(df):\n",
    "    df = df[df[\"HAD_CPOX\"] <= 2]\n",
    "    df = df[~df[\"P_NUMVRC\"].isna() & ~df[\"HAD_CPOX\"].isna()]\n",
    "\n",
    "    corr, pval=stats.pearsonr(df[\"HAD_CPOX\"], df[\"P_NUMVRC\"])\n",
    "\n",
    "    return corr\n",
    "\n",
    "corr_chickenpox(df_nis)"
   ]
  }
 ],
 "metadata": {
  "kernelspec": {
   "display_name": "Python 3",
   "language": "python",
   "name": "python3"
  },
  "language_info": {
   "codemirror_mode": {
    "name": "ipython",
    "version": 3
   },
   "file_extension": ".py",
   "mimetype": "text/x-python",
   "name": "python",
   "nbconvert_exporter": "python",
   "pygments_lexer": "ipython3",
   "version": "3.8.10"
  }
 },
 "nbformat": 4,
 "nbformat_minor": 5
}
