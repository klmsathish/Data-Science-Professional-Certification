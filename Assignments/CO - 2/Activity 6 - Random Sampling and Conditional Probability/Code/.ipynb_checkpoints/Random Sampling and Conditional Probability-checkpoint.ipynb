{
 "cells": [
  {
   "cell_type": "code",
   "execution_count": 1,
   "id": "f1956903",
   "metadata": {},
   "outputs": [],
   "source": [
    "from numpy import random\n",
    "import pandas as pd\n",
    "import numpy as np"
   ]
  },
  {
   "cell_type": "markdown",
   "id": "44eb3aae",
   "metadata": {},
   "source": [
    "Generate 10,000 random sample representing people to buy a product and randomly assigns them as being in age groups 20's, 30's, 40's, 50's, 60's, or 70's. Assign a lower probability for young people to buy a product. Finally, print two Python dictionaries:\n",
    "\n",
    "\"totals\" contains the total number of people in each age group.\n",
    "\"purchases\" contains the total number of things purchased by people in each age group.\n",
    "The grand total of purchases is in totalPurchases, and we know the total number of people is 100,000.\n",
    "\n",
    "The output must be \n",
    "totals\n",
    "{20: value1, 30: value2}\n",
    "\n",
    "purchases\n",
    "{20: value1, 30:value}"
   ]
  },
  {
   "cell_type": "code",
   "execution_count": 12,
   "id": "f2d063e6",
   "metadata": {},
   "outputs": [],
   "source": [
    "# Setting seed\n",
    "random.seed(0)\n",
    "\n",
    "totals = {20:0, 30:0, 40:0, 50:0, 60:0, 70:0}\n",
    "purchases = {20:0, 30:0, 40:0, 50:0, 60:0, 70:0}\n",
    "totalPurchases = 0\n",
    "for _ in range(100000):\n",
    "    ageDecade = random.choice([20, 30, 40, 50, 60, 70])\n",
    "    purchaseProbability = ageDecade/100\n",
    "    totals[ageDecade] += 1\n",
    "    if (random.random() < purchaseProbability):\n",
    "        totalPurchases += 1\n",
    "        purchases[ageDecade] += 1"
   ]
  },
  {
   "cell_type": "code",
   "execution_count": 13,
   "id": "23b0c510",
   "metadata": {},
   "outputs": [
    {
     "name": "stdout",
     "output_type": "stream",
     "text": [
      "Totals {20: 16861, 30: 16595, 40: 16603, 50: 16619, 60: 16725, 70: 16597}\n",
      "Purchases {20: 3486, 30: 5097, 40: 6647, 50: 8303, 60: 10086, 70: 11583}\n"
     ]
    }
   ],
   "source": [
    "print(\"Totals\",totals)\n",
    "print(\"Purchases\",purchases)"
   ]
  },
  {
   "cell_type": "markdown",
   "id": "c4ce4f09",
   "metadata": {},
   "source": [
    "### 1. Compute conditional probability P(E given F) ie., P(E|F), where E is \"purchase\" and F is \"age\". The probability of someone in 30 years group purchasing something. Write your observation."
   ]
  },
  {
   "cell_type": "code",
   "execution_count": 15,
   "id": "99bfd44e",
   "metadata": {},
   "outputs": [
    {
     "name": "stdout",
     "output_type": "stream",
     "text": [
      "P(purchase | 30s): 0.30714070503163604\n"
     ]
    }
   ],
   "source": [
    "PEF = float(purchases[30]) / float(totals[30])\n",
    "print('P(purchase | 30s): ' + str(PEF))"
   ]
  },
  {
   "cell_type": "markdown",
   "id": "728cddac",
   "metadata": {},
   "source": [
    "#### Around 30% of people in the 30 age group will buy a product"
   ]
  },
  {
   "cell_type": "markdown",
   "id": "804e644b",
   "metadata": {},
   "source": [
    "### 2. What is P(F)? Print the value."
   ]
  },
  {
   "cell_type": "code",
   "execution_count": 16,
   "id": "8b1dae97",
   "metadata": {},
   "outputs": [
    {
     "name": "stdout",
     "output_type": "stream",
     "text": [
      "P(30's): 0.16595\n"
     ]
    }
   ],
   "source": [
    "PF = float(totals[30]) / 100000.0\n",
    "print(\"P(30's): \" +  str(PF))"
   ]
  },
  {
   "cell_type": "markdown",
   "id": "9406fc54",
   "metadata": {},
   "source": [
    "#### P(F) is the probability of 30 in this totals data set"
   ]
  },
  {
   "cell_type": "markdown",
   "id": "fd9881c2",
   "metadata": {},
   "source": [
    "### 3. What is P(E)? Print the value."
   ]
  },
  {
   "cell_type": "code",
   "execution_count": 18,
   "id": "dddd2f7f",
   "metadata": {},
   "outputs": [
    {
     "name": "stdout",
     "output_type": "stream",
     "text": [
      "P(Purchase):0.45202\n"
     ]
    }
   ],
   "source": [
    "PE = float(totalPurchases) / 100000.0\n",
    "print(\"P(Purchase):\" + str(PE))"
   ]
  },
  {
   "cell_type": "markdown",
   "id": "6ddad16a",
   "metadata": {},
   "source": [
    "#### P(E) is the overall probability of buying something, regardless of your age"
   ]
  },
  {
   "cell_type": "markdown",
   "id": "987f7d96",
   "metadata": {},
   "source": [
    "### 4. What is your observation, if E and F are independent? Check from the computed values and state your observation."
   ]
  },
  {
   "cell_type": "markdown",
   "id": "5c02dac1",
   "metadata": {},
   "source": [
    "#### If E and F were independent, then we would expect P(E | F) to be about the same as P(E). But they're not; P(E) is 0.45, and P(E|F) is 0.3. So, that tells us that E and F are dependent"
   ]
  },
  {
   "cell_type": "markdown",
   "id": "170e3cd9",
   "metadata": {},
   "source": [
    "### 5.What is P(E,F)? Is it different from P(E|F)? Write your observation on P(E,F)"
   ]
  },
  {
   "cell_type": "markdown",
   "id": "3efae95f",
   "metadata": {},
   "source": [
    "#### P(E,F) is different from P(E|F). P(E,F) is the probability of both being in your 30's and buying something, out of the total population - not just the population of people in the age 30's"
   ]
  },
  {
   "cell_type": "code",
   "execution_count": null,
   "id": "be0a81af",
   "metadata": {},
   "outputs": [],
   "source": [
    "# P(E|F)\n",
    "PEF = float(purchases[30]) / float(totals[30])\n",
    "print('P(purchase | 30s): ' + str(PEF))"
   ]
  },
  {
   "cell_type": "code",
   "execution_count": 22,
   "id": "5d37426a",
   "metadata": {},
   "outputs": [
    {
     "name": "stdout",
     "output_type": "stream",
     "text": [
      "P(30's, Purchase) -  0.05097\n"
     ]
    }
   ],
   "source": [
    "#P(E,F)\n",
    "print(\"P(30's, Purchase) - \", str(float(purchases[30]) / 100000.0))"
   ]
  },
  {
   "cell_type": "markdown",
   "id": "0b5fddd0",
   "metadata": {},
   "source": [
    "### 6.Compute P(E,F) and print the values."
   ]
  },
  {
   "cell_type": "code",
   "execution_count": 24,
   "id": "ca51d756",
   "metadata": {},
   "outputs": [
    {
     "name": "stdout",
     "output_type": "stream",
     "text": [
      "P(30's, Purchase) -  0.05097\n"
     ]
    }
   ],
   "source": [
    "#P(E,F)\n",
    "print(\"P(30's, Purchase) - \", str(float(purchases[30]) / 100000.0))"
   ]
  },
  {
   "cell_type": "markdown",
   "id": "c3044b48",
   "metadata": {},
   "source": [
    "### 7. Also, check P(E|F) = (P(E,F)/P(F)"
   ]
  },
  {
   "cell_type": "code",
   "execution_count": 29,
   "id": "489eb3c0",
   "metadata": {},
   "outputs": [
    {
     "name": "stdout",
     "output_type": "stream",
     "text": [
      "They are not same\n"
     ]
    }
   ],
   "source": [
    "#P(E|F)\n",
    "PEF = float(purchases[30]) / float(totals[30])\n",
    "#P(E,F)\n",
    "pef = (float(purchases[30]) / 100000.0)\n",
    "#P(F)\n",
    "PF = float(totals[30]) / 100000.0\n",
    "\n",
    "if PEF == pef+PF:\n",
    "    print(\"They are same\")\n",
    "else:\n",
    "    print(\"They are not same\")"
   ]
  },
  {
   "cell_type": "markdown",
   "id": "27c6aea5",
   "metadata": {},
   "source": [
    "### 8. Modify the code of the generating the random sample for totals and purchases such that purchase probability does not vary with age, making E and F independent."
   ]
  },
  {
   "cell_type": "code",
   "execution_count": 30,
   "id": "05950793",
   "metadata": {},
   "outputs": [],
   "source": [
    "from numpy import random\n",
    "random.seed(0)\n",
    "\n",
    "totals = {20:0, 30:0, 40:0, 50:0, 60:0, 70:0}\n",
    "purchases = {20:0, 30:0, 40:0, 50:0, 60:0, 70:0}\n",
    "totalPurchases = 0\n",
    "for _ in range(100000):\n",
    "    age = random.choice([20, 30, 40, 50, 60, 70])\n",
    "    purchaseProb = 0.4\n",
    "    totals[age] += 1\n",
    "    if (random.random() < purchaseProb):\n",
    "        totalPurchases += 1\n",
    "        purchases[age] += 1"
   ]
  },
  {
   "cell_type": "markdown",
   "id": "d5b5137d",
   "metadata": {},
   "source": [
    "### 9.Check P(E|F) and P(E). Write your observation. "
   ]
  },
  {
   "cell_type": "code",
   "execution_count": 32,
   "id": "0ee2331f",
   "metadata": {},
   "outputs": [
    {
     "name": "stdout",
     "output_type": "stream",
     "text": [
      "P(purchase | 30s): 0.3987604549010169\n"
     ]
    }
   ],
   "source": [
    "PEF = float(purchases[30]) / float(totals[30])\n",
    "print('P(purchase | 30s): ' + str(PEF))"
   ]
  },
  {
   "cell_type": "code",
   "execution_count": 33,
   "id": "56fe541c",
   "metadata": {},
   "outputs": [
    {
     "name": "stdout",
     "output_type": "stream",
     "text": [
      "P(purchase): 0.4003\n"
     ]
    }
   ],
   "source": [
    "PE = float(totalPurchases) / 100000.0\n",
    "print('P(purchase): ' + str(PE))"
   ]
  },
  {
   "cell_type": "markdown",
   "id": "494ce934",
   "metadata": {},
   "source": [
    "From the above values P(E|F) is  close to P(E). Hence, E and F are likely independent variables.\n",
    "\n",
    "The conditional probability of purchase for a given age is no way different than the a-priori probability of purchase regardless of age."
   ]
  }
 ],
 "metadata": {
  "kernelspec": {
   "display_name": "Python 3",
   "language": "python",
   "name": "python3"
  },
  "language_info": {
   "codemirror_mode": {
    "name": "ipython",
    "version": 3
   },
   "file_extension": ".py",
   "mimetype": "text/x-python",
   "name": "python",
   "nbconvert_exporter": "python",
   "pygments_lexer": "ipython3",
   "version": "3.8.10"
  }
 },
 "nbformat": 4,
 "nbformat_minor": 5
}
