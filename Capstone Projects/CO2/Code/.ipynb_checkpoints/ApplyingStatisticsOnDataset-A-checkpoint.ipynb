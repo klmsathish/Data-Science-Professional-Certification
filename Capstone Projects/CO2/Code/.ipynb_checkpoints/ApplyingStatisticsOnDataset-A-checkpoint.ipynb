{
 "cells": [
  {
   "cell_type": "code",
   "execution_count": 51,
   "id": "f1734045",
   "metadata": {},
   "outputs": [],
   "source": [
    "#Importing Packages\n",
    "import pandas as pd\n",
    "import numpy as np\n",
    "import matplotlib.pyplot as plt"
   ]
  },
  {
   "cell_type": "code",
   "execution_count": 11,
   "id": "ba755e51",
   "metadata": {},
   "outputs": [],
   "source": [
    "# Loading Data\n",
    "df_food = pd.read_csv(\"../Data/foot_consumption.txt\")"
   ]
  },
  {
   "cell_type": "markdown",
   "id": "2c0dde5c",
   "metadata": {},
   "source": [
    "### 1.Filter Belgium"
   ]
  },
  {
   "cell_type": "code",
   "execution_count": 12,
   "id": "96473aff",
   "metadata": {},
   "outputs": [
    {
     "data": {
      "text/html": [
       "<div>\n",
       "<style scoped>\n",
       "    .dataframe tbody tr th:only-of-type {\n",
       "        vertical-align: middle;\n",
       "    }\n",
       "\n",
       "    .dataframe tbody tr th {\n",
       "        vertical-align: top;\n",
       "    }\n",
       "\n",
       "    .dataframe thead th {\n",
       "        text-align: right;\n",
       "    }\n",
       "</style>\n",
       "<table border=\"1\" class=\"dataframe\">\n",
       "  <thead>\n",
       "    <tr style=\"text-align: right;\">\n",
       "      <th></th>\n",
       "      <th>Unnamed: 0</th>\n",
       "      <th>country</th>\n",
       "      <th>food_category</th>\n",
       "      <th>consumption</th>\n",
       "      <th>co2_emission</th>\n",
       "    </tr>\n",
       "  </thead>\n",
       "  <tbody>\n",
       "    <tr>\n",
       "      <th>396</th>\n",
       "      <td>397</td>\n",
       "      <td>Belgium</td>\n",
       "      <td>pork</td>\n",
       "      <td>38.65</td>\n",
       "      <td>136.80</td>\n",
       "    </tr>\n",
       "    <tr>\n",
       "      <th>397</th>\n",
       "      <td>398</td>\n",
       "      <td>Belgium</td>\n",
       "      <td>poultry</td>\n",
       "      <td>12.20</td>\n",
       "      <td>13.11</td>\n",
       "    </tr>\n",
       "    <tr>\n",
       "      <th>398</th>\n",
       "      <td>399</td>\n",
       "      <td>Belgium</td>\n",
       "      <td>beef</td>\n",
       "      <td>15.63</td>\n",
       "      <td>482.31</td>\n",
       "    </tr>\n",
       "    <tr>\n",
       "      <th>399</th>\n",
       "      <td>400</td>\n",
       "      <td>Belgium</td>\n",
       "      <td>lamb_goat</td>\n",
       "      <td>1.32</td>\n",
       "      <td>46.23</td>\n",
       "    </tr>\n",
       "    <tr>\n",
       "      <th>400</th>\n",
       "      <td>401</td>\n",
       "      <td>Belgium</td>\n",
       "      <td>fish</td>\n",
       "      <td>18.97</td>\n",
       "      <td>30.29</td>\n",
       "    </tr>\n",
       "    <tr>\n",
       "      <th>401</th>\n",
       "      <td>402</td>\n",
       "      <td>Belgium</td>\n",
       "      <td>eggs</td>\n",
       "      <td>12.59</td>\n",
       "      <td>11.57</td>\n",
       "    </tr>\n",
       "    <tr>\n",
       "      <th>402</th>\n",
       "      <td>403</td>\n",
       "      <td>Belgium</td>\n",
       "      <td>dairy</td>\n",
       "      <td>236.19</td>\n",
       "      <td>336.43</td>\n",
       "    </tr>\n",
       "    <tr>\n",
       "      <th>403</th>\n",
       "      <td>404</td>\n",
       "      <td>Belgium</td>\n",
       "      <td>wheat</td>\n",
       "      <td>111.91</td>\n",
       "      <td>21.34</td>\n",
       "    </tr>\n",
       "    <tr>\n",
       "      <th>404</th>\n",
       "      <td>405</td>\n",
       "      <td>Belgium</td>\n",
       "      <td>rice</td>\n",
       "      <td>8.61</td>\n",
       "      <td>11.02</td>\n",
       "    </tr>\n",
       "    <tr>\n",
       "      <th>405</th>\n",
       "      <td>406</td>\n",
       "      <td>Belgium</td>\n",
       "      <td>soybeans</td>\n",
       "      <td>0.07</td>\n",
       "      <td>0.03</td>\n",
       "    </tr>\n",
       "    <tr>\n",
       "      <th>406</th>\n",
       "      <td>407</td>\n",
       "      <td>Belgium</td>\n",
       "      <td>nuts</td>\n",
       "      <td>7.32</td>\n",
       "      <td>12.96</td>\n",
       "    </tr>\n",
       "  </tbody>\n",
       "</table>\n",
       "</div>"
      ],
      "text/plain": [
       "     Unnamed: 0  country food_category  consumption  co2_emission\n",
       "396         397  Belgium          pork        38.65        136.80\n",
       "397         398  Belgium       poultry        12.20         13.11\n",
       "398         399  Belgium          beef        15.63        482.31\n",
       "399         400  Belgium     lamb_goat         1.32         46.23\n",
       "400         401  Belgium          fish        18.97         30.29\n",
       "401         402  Belgium          eggs        12.59         11.57\n",
       "402         403  Belgium         dairy       236.19        336.43\n",
       "403         404  Belgium         wheat       111.91         21.34\n",
       "404         405  Belgium          rice         8.61         11.02\n",
       "405         406  Belgium      soybeans         0.07          0.03\n",
       "406         407  Belgium          nuts         7.32         12.96"
      ]
     },
     "execution_count": 12,
     "metadata": {},
     "output_type": "execute_result"
    }
   ],
   "source": [
    "df_food[df_food[\"country\"]==\"Belgium\"]"
   ]
  },
  {
   "cell_type": "markdown",
   "id": "45b914e2",
   "metadata": {},
   "source": [
    "### 2. Filter USA"
   ]
  },
  {
   "cell_type": "code",
   "execution_count": 17,
   "id": "aa36afa0",
   "metadata": {},
   "outputs": [
    {
     "data": {
      "text/html": [
       "<div>\n",
       "<style scoped>\n",
       "    .dataframe tbody tr th:only-of-type {\n",
       "        vertical-align: middle;\n",
       "    }\n",
       "\n",
       "    .dataframe tbody tr th {\n",
       "        vertical-align: top;\n",
       "    }\n",
       "\n",
       "    .dataframe thead th {\n",
       "        text-align: right;\n",
       "    }\n",
       "</style>\n",
       "<table border=\"1\" class=\"dataframe\">\n",
       "  <thead>\n",
       "    <tr style=\"text-align: right;\">\n",
       "      <th></th>\n",
       "      <th>Unnamed: 0</th>\n",
       "      <th>country</th>\n",
       "      <th>food_category</th>\n",
       "      <th>consumption</th>\n",
       "      <th>co2_emission</th>\n",
       "    </tr>\n",
       "  </thead>\n",
       "  <tbody>\n",
       "    <tr>\n",
       "      <th>55</th>\n",
       "      <td>56</td>\n",
       "      <td>USA</td>\n",
       "      <td>pork</td>\n",
       "      <td>27.64</td>\n",
       "      <td>97.83</td>\n",
       "    </tr>\n",
       "    <tr>\n",
       "      <th>56</th>\n",
       "      <td>57</td>\n",
       "      <td>USA</td>\n",
       "      <td>poultry</td>\n",
       "      <td>50.01</td>\n",
       "      <td>53.72</td>\n",
       "    </tr>\n",
       "    <tr>\n",
       "      <th>57</th>\n",
       "      <td>58</td>\n",
       "      <td>USA</td>\n",
       "      <td>beef</td>\n",
       "      <td>36.24</td>\n",
       "      <td>1118.29</td>\n",
       "    </tr>\n",
       "    <tr>\n",
       "      <th>58</th>\n",
       "      <td>59</td>\n",
       "      <td>USA</td>\n",
       "      <td>lamb_goat</td>\n",
       "      <td>0.43</td>\n",
       "      <td>15.06</td>\n",
       "    </tr>\n",
       "    <tr>\n",
       "      <th>59</th>\n",
       "      <td>60</td>\n",
       "      <td>USA</td>\n",
       "      <td>fish</td>\n",
       "      <td>12.35</td>\n",
       "      <td>19.72</td>\n",
       "    </tr>\n",
       "    <tr>\n",
       "      <th>60</th>\n",
       "      <td>61</td>\n",
       "      <td>USA</td>\n",
       "      <td>eggs</td>\n",
       "      <td>14.58</td>\n",
       "      <td>13.39</td>\n",
       "    </tr>\n",
       "    <tr>\n",
       "      <th>61</th>\n",
       "      <td>62</td>\n",
       "      <td>USA</td>\n",
       "      <td>dairy</td>\n",
       "      <td>254.69</td>\n",
       "      <td>362.78</td>\n",
       "    </tr>\n",
       "    <tr>\n",
       "      <th>62</th>\n",
       "      <td>63</td>\n",
       "      <td>USA</td>\n",
       "      <td>wheat</td>\n",
       "      <td>80.43</td>\n",
       "      <td>15.34</td>\n",
       "    </tr>\n",
       "    <tr>\n",
       "      <th>63</th>\n",
       "      <td>64</td>\n",
       "      <td>USA</td>\n",
       "      <td>rice</td>\n",
       "      <td>6.88</td>\n",
       "      <td>8.80</td>\n",
       "    </tr>\n",
       "    <tr>\n",
       "      <th>64</th>\n",
       "      <td>65</td>\n",
       "      <td>USA</td>\n",
       "      <td>soybeans</td>\n",
       "      <td>0.04</td>\n",
       "      <td>0.02</td>\n",
       "    </tr>\n",
       "    <tr>\n",
       "      <th>65</th>\n",
       "      <td>66</td>\n",
       "      <td>USA</td>\n",
       "      <td>nuts</td>\n",
       "      <td>7.86</td>\n",
       "      <td>13.91</td>\n",
       "    </tr>\n",
       "  </tbody>\n",
       "</table>\n",
       "</div>"
      ],
      "text/plain": [
       "    Unnamed: 0 country food_category  consumption  co2_emission\n",
       "55          56     USA          pork        27.64         97.83\n",
       "56          57     USA       poultry        50.01         53.72\n",
       "57          58     USA          beef        36.24       1118.29\n",
       "58          59     USA     lamb_goat         0.43         15.06\n",
       "59          60     USA          fish        12.35         19.72\n",
       "60          61     USA          eggs        14.58         13.39\n",
       "61          62     USA         dairy       254.69        362.78\n",
       "62          63     USA         wheat        80.43         15.34\n",
       "63          64     USA          rice         6.88          8.80\n",
       "64          65     USA      soybeans         0.04          0.02\n",
       "65          66     USA          nuts         7.86         13.91"
      ]
     },
     "execution_count": 17,
     "metadata": {},
     "output_type": "execute_result"
    }
   ],
   "source": [
    "df_food[df_food[\"country\"]==\"USA\"]"
   ]
  },
  {
   "cell_type": "markdown",
   "id": "f3a6d44b",
   "metadata": {},
   "source": [
    "### 3. Calculate mean and median consumption in Belgium and USA"
   ]
  },
  {
   "cell_type": "code",
   "execution_count": 20,
   "id": "25ac67e3",
   "metadata": {},
   "outputs": [
    {
     "name": "stdout",
     "output_type": "stream",
     "text": [
      "Mean Consumption in Belgium 42.132727272727266\n",
      "Median Consumption in Belgium 12.59\n",
      "\n",
      "\n",
      "Mean Consumption in USA 44.650000000000006\n",
      "Median Consumption in USA 14.58\n"
     ]
    }
   ],
   "source": [
    "# Belgium\n",
    "print(\"Mean Consumption in Belgium\",df_food[df_food[\"country\"]==\"Belgium\"][\"consumption\"].mean())\n",
    "print(\"Median Consumption in Belgium\",df_food[df_food[\"country\"]==\"Belgium\"][\"consumption\"].median())\n",
    "\n",
    "print(\"\\n\")\n",
    "\n",
    "# USA\n",
    "print(\"Mean Consumption in USA\",df_food[df_food[\"country\"]==\"USA\"][\"consumption\"].mean())\n",
    "print(\"Median Consumption in USA\",df_food[df_food[\"country\"]==\"USA\"][\"consumption\"].median())"
   ]
  },
  {
   "cell_type": "markdown",
   "id": "b7465b98",
   "metadata": {},
   "source": [
    "### 4. Subset for Belgium and USA only"
   ]
  },
  {
   "cell_type": "code",
   "execution_count": 44,
   "id": "e8ca2e92",
   "metadata": {},
   "outputs": [],
   "source": [
    "df_belg_usa = df_food[(df_food[\"country\"] == \"Belgium\") | (df_food[\"country\"] == \"USA\")]"
   ]
  },
  {
   "cell_type": "markdown",
   "id": "6821ae46",
   "metadata": {},
   "source": [
    "### 5. Compute mean and median consumption group by country on subset in Q.4."
   ]
  },
  {
   "cell_type": "code",
   "execution_count": 47,
   "id": "27bac47d",
   "metadata": {},
   "outputs": [
    {
     "data": {
      "text/html": [
       "<div>\n",
       "<style scoped>\n",
       "    .dataframe tbody tr th:only-of-type {\n",
       "        vertical-align: middle;\n",
       "    }\n",
       "\n",
       "    .dataframe tbody tr th {\n",
       "        vertical-align: top;\n",
       "    }\n",
       "\n",
       "    .dataframe thead tr th {\n",
       "        text-align: left;\n",
       "    }\n",
       "\n",
       "    .dataframe thead tr:last-of-type th {\n",
       "        text-align: right;\n",
       "    }\n",
       "</style>\n",
       "<table border=\"1\" class=\"dataframe\">\n",
       "  <thead>\n",
       "    <tr>\n",
       "      <th></th>\n",
       "      <th colspan=\"2\" halign=\"left\">consumption</th>\n",
       "    </tr>\n",
       "    <tr>\n",
       "      <th></th>\n",
       "      <th>mean</th>\n",
       "      <th>median</th>\n",
       "    </tr>\n",
       "    <tr>\n",
       "      <th>country</th>\n",
       "      <th></th>\n",
       "      <th></th>\n",
       "    </tr>\n",
       "  </thead>\n",
       "  <tbody>\n",
       "    <tr>\n",
       "      <th>Belgium</th>\n",
       "      <td>42.132727</td>\n",
       "      <td>12.59</td>\n",
       "    </tr>\n",
       "    <tr>\n",
       "      <th>USA</th>\n",
       "      <td>44.650000</td>\n",
       "      <td>14.58</td>\n",
       "    </tr>\n",
       "  </tbody>\n",
       "</table>\n",
       "</div>"
      ],
      "text/plain": [
       "        consumption       \n",
       "               mean median\n",
       "country                   \n",
       "Belgium   42.132727  12.59\n",
       "USA       44.650000  14.58"
      ]
     },
     "execution_count": 47,
     "metadata": {},
     "output_type": "execute_result"
    }
   ],
   "source": [
    "df_belg_usa.groupby(\"country\").agg({'consumption': ['mean','median']})"
   ]
  },
  {
   "cell_type": "markdown",
   "id": "6b48cf98",
   "metadata": {},
   "source": [
    "### 6. Subset the column food_category with value \"rice\"."
   ]
  },
  {
   "cell_type": "code",
   "execution_count": 49,
   "id": "2249e4f2",
   "metadata": {},
   "outputs": [
    {
     "data": {
      "text/html": [
       "<div>\n",
       "<style scoped>\n",
       "    .dataframe tbody tr th:only-of-type {\n",
       "        vertical-align: middle;\n",
       "    }\n",
       "\n",
       "    .dataframe tbody tr th {\n",
       "        vertical-align: top;\n",
       "    }\n",
       "\n",
       "    .dataframe thead th {\n",
       "        text-align: right;\n",
       "    }\n",
       "</style>\n",
       "<table border=\"1\" class=\"dataframe\">\n",
       "  <thead>\n",
       "    <tr style=\"text-align: right;\">\n",
       "      <th></th>\n",
       "      <th>Unnamed: 0</th>\n",
       "      <th>country</th>\n",
       "      <th>food_category</th>\n",
       "      <th>consumption</th>\n",
       "      <th>co2_emission</th>\n",
       "    </tr>\n",
       "  </thead>\n",
       "  <tbody>\n",
       "    <tr>\n",
       "      <th>8</th>\n",
       "      <td>9</td>\n",
       "      <td>Argentina</td>\n",
       "      <td>rice</td>\n",
       "      <td>8.77</td>\n",
       "      <td>11.22</td>\n",
       "    </tr>\n",
       "    <tr>\n",
       "      <th>19</th>\n",
       "      <td>20</td>\n",
       "      <td>Australia</td>\n",
       "      <td>rice</td>\n",
       "      <td>11.03</td>\n",
       "      <td>14.12</td>\n",
       "    </tr>\n",
       "    <tr>\n",
       "      <th>30</th>\n",
       "      <td>31</td>\n",
       "      <td>Albania</td>\n",
       "      <td>rice</td>\n",
       "      <td>7.78</td>\n",
       "      <td>9.96</td>\n",
       "    </tr>\n",
       "    <tr>\n",
       "      <th>41</th>\n",
       "      <td>42</td>\n",
       "      <td>Iceland</td>\n",
       "      <td>rice</td>\n",
       "      <td>3.89</td>\n",
       "      <td>4.98</td>\n",
       "    </tr>\n",
       "    <tr>\n",
       "      <th>52</th>\n",
       "      <td>53</td>\n",
       "      <td>New Zealand</td>\n",
       "      <td>rice</td>\n",
       "      <td>9.16</td>\n",
       "      <td>11.72</td>\n",
       "    </tr>\n",
       "    <tr>\n",
       "      <th>...</th>\n",
       "      <td>...</td>\n",
       "      <td>...</td>\n",
       "      <td>...</td>\n",
       "      <td>...</td>\n",
       "      <td>...</td>\n",
       "    </tr>\n",
       "    <tr>\n",
       "      <th>1383</th>\n",
       "      <td>1384</td>\n",
       "      <td>Sierra Leone</td>\n",
       "      <td>rice</td>\n",
       "      <td>103.30</td>\n",
       "      <td>132.19</td>\n",
       "    </tr>\n",
       "    <tr>\n",
       "      <th>1394</th>\n",
       "      <td>1395</td>\n",
       "      <td>Sri Lanka</td>\n",
       "      <td>rice</td>\n",
       "      <td>109.72</td>\n",
       "      <td>140.41</td>\n",
       "    </tr>\n",
       "    <tr>\n",
       "      <th>1405</th>\n",
       "      <td>1406</td>\n",
       "      <td>Indonesia</td>\n",
       "      <td>rice</td>\n",
       "      <td>134.62</td>\n",
       "      <td>172.27</td>\n",
       "    </tr>\n",
       "    <tr>\n",
       "      <th>1416</th>\n",
       "      <td>1417</td>\n",
       "      <td>Liberia</td>\n",
       "      <td>rice</td>\n",
       "      <td>94.75</td>\n",
       "      <td>121.25</td>\n",
       "    </tr>\n",
       "    <tr>\n",
       "      <th>1427</th>\n",
       "      <td>1428</td>\n",
       "      <td>Bangladesh</td>\n",
       "      <td>rice</td>\n",
       "      <td>171.73</td>\n",
       "      <td>219.76</td>\n",
       "    </tr>\n",
       "  </tbody>\n",
       "</table>\n",
       "<p>130 rows × 5 columns</p>\n",
       "</div>"
      ],
      "text/plain": [
       "      Unnamed: 0       country food_category  consumption  co2_emission\n",
       "8              9     Argentina          rice         8.77         11.22\n",
       "19            20     Australia          rice        11.03         14.12\n",
       "30            31       Albania          rice         7.78          9.96\n",
       "41            42       Iceland          rice         3.89          4.98\n",
       "52            53   New Zealand          rice         9.16         11.72\n",
       "...          ...           ...           ...          ...           ...\n",
       "1383        1384  Sierra Leone          rice       103.30        132.19\n",
       "1394        1395     Sri Lanka          rice       109.72        140.41\n",
       "1405        1406     Indonesia          rice       134.62        172.27\n",
       "1416        1417       Liberia          rice        94.75        121.25\n",
       "1427        1428    Bangladesh          rice       171.73        219.76\n",
       "\n",
       "[130 rows x 5 columns]"
      ]
     },
     "execution_count": 49,
     "metadata": {},
     "output_type": "execute_result"
    }
   ],
   "source": [
    "df_rice = df_food[df_food[\"food_category\"]==\"rice\"]\n",
    "df_rice"
   ]
  },
  {
   "cell_type": "markdown",
   "id": "516777a4",
   "metadata": {},
   "source": [
    "### 7. Plot histogram for CO2 emission for rice."
   ]
  },
  {
   "cell_type": "code",
   "execution_count": 55,
   "id": "1db20fa0",
   "metadata": {},
   "outputs": [
    {
     "data": {
      "image/png": "[encoded data removed]",
      "text/plain": [
       "<Figure size 432x288 with 1 Axes>"
      ]
     },
     "metadata": {
      "needs_background": "light"
     },
     "output_type": "display_data"
    }
   ],
   "source": [
    "plt.hist(df_rice[\"co2_emission\"],bins = 25)\n",
    "plt.show()"
   ]
  },
  {
   "cell_type": "markdown",
   "id": "71cdcf31",
   "metadata": {},
   "source": [
    "### 8. Calculate mean and median of co2_emission with aggregated mean and median using .agg()"
   ]
  },
  {
   "cell_type": "code",
   "execution_count": 56,
   "id": "b1afc426",
   "metadata": {},
   "outputs": [
    {
     "data": {
      "text/html": [
       "<div>\n",
       "<style scoped>\n",
       "    .dataframe tbody tr th:only-of-type {\n",
       "        vertical-align: middle;\n",
       "    }\n",
       "\n",
       "    .dataframe tbody tr th {\n",
       "        vertical-align: top;\n",
       "    }\n",
       "\n",
       "    .dataframe thead tr th {\n",
       "        text-align: left;\n",
       "    }\n",
       "\n",
       "    .dataframe thead tr:last-of-type th {\n",
       "        text-align: right;\n",
       "    }\n",
       "</style>\n",
       "<table border=\"1\" class=\"dataframe\">\n",
       "  <thead>\n",
       "    <tr>\n",
       "      <th></th>\n",
       "      <th colspan=\"2\" halign=\"left\">consumption</th>\n",
       "    </tr>\n",
       "    <tr>\n",
       "      <th></th>\n",
       "      <th>mean</th>\n",
       "      <th>median</th>\n",
       "    </tr>\n",
       "    <tr>\n",
       "      <th>co2_emission</th>\n",
       "      <th></th>\n",
       "      <th></th>\n",
       "    </tr>\n",
       "  </thead>\n",
       "  <tbody>\n",
       "    <tr>\n",
       "      <th>1.22</th>\n",
       "      <td>0.95</td>\n",
       "      <td>0.95</td>\n",
       "    </tr>\n",
       "    <tr>\n",
       "      <th>1.37</th>\n",
       "      <td>1.07</td>\n",
       "      <td>1.07</td>\n",
       "    </tr>\n",
       "    <tr>\n",
       "      <th>1.41</th>\n",
       "      <td>1.10</td>\n",
       "      <td>1.10</td>\n",
       "    </tr>\n",
       "    <tr>\n",
       "      <th>1.56</th>\n",
       "      <td>1.22</td>\n",
       "      <td>1.22</td>\n",
       "    </tr>\n",
       "    <tr>\n",
       "      <th>2.41</th>\n",
       "      <td>1.88</td>\n",
       "      <td>1.88</td>\n",
       "    </tr>\n",
       "    <tr>\n",
       "      <th>...</th>\n",
       "      <td>...</td>\n",
       "      <td>...</td>\n",
       "    </tr>\n",
       "    <tr>\n",
       "      <th>169.94</th>\n",
       "      <td>132.80</td>\n",
       "      <td>132.80</td>\n",
       "    </tr>\n",
       "    <tr>\n",
       "      <th>172.27</th>\n",
       "      <td>134.62</td>\n",
       "      <td>134.62</td>\n",
       "    </tr>\n",
       "    <tr>\n",
       "      <th>184.99</th>\n",
       "      <td>144.56</td>\n",
       "      <td>144.56</td>\n",
       "    </tr>\n",
       "    <tr>\n",
       "      <th>203.60</th>\n",
       "      <td>159.10</td>\n",
       "      <td>159.10</td>\n",
       "    </tr>\n",
       "    <tr>\n",
       "      <th>219.76</th>\n",
       "      <td>171.73</td>\n",
       "      <td>171.73</td>\n",
       "    </tr>\n",
       "  </tbody>\n",
       "</table>\n",
       "<p>127 rows × 2 columns</p>\n",
       "</div>"
      ],
      "text/plain": [
       "             consumption        \n",
       "                    mean  median\n",
       "co2_emission                    \n",
       "1.22                0.95    0.95\n",
       "1.37                1.07    1.07\n",
       "1.41                1.10    1.10\n",
       "1.56                1.22    1.22\n",
       "2.41                1.88    1.88\n",
       "...                  ...     ...\n",
       "169.94            132.80  132.80\n",
       "172.27            134.62  134.62\n",
       "184.99            144.56  144.56\n",
       "203.60            159.10  159.10\n",
       "219.76            171.73  171.73\n",
       "\n",
       "[127 rows x 2 columns]"
      ]
     },
     "execution_count": 56,
     "metadata": {},
     "output_type": "execute_result"
    }
   ],
   "source": [
    "df_rice.groupby(\"co2_emission\").agg({'consumption': ['mean','median']})"
   ]
  },
  {
   "cell_type": "markdown",
   "id": "07e566f4",
   "metadata": {},
   "source": [
    "### 9. Given the skew of this data, what measure of central tendency best summarizes the kilograms of CO2 emissions per person per year for rice?"
   ]
  },
  {
   "cell_type": "code",
   "execution_count": 57,
   "id": "5946d963",
   "metadata": {},
   "outputs": [
    {
     "data": {
      "image/png": "[encoded data removed]",
      "text/plain": [
       "<Figure size 432x288 with 1 Axes>"
      ]
     },
     "metadata": {
      "needs_background": "light"
     },
     "output_type": "display_data"
    }
   ],
   "source": [
    "plt.hist(df_rice[\"co2_emission\"],bins = 25)\n",
    "plt.show()"
   ]
  },
  {
   "cell_type": "markdown",
   "id": "fce18404",
   "metadata": {},
   "source": [
    "#### As the plot is left skewed, we can use median measure so that it will not be affected by outliers."
   ]
  },
  {
   "cell_type": "markdown",
   "id": "e6fc9b7d",
   "metadata": {},
   "source": [
    "### 10. Calculate the quartiles of co2_emission."
   ]
  },
  {
   "cell_type": "code",
   "execution_count": 78,
   "id": "13e44304",
   "metadata": {},
   "outputs": [
    {
     "name": "stdout",
     "output_type": "stream",
     "text": [
      "25% Quartile  6.0425\n",
      "50% Quartile  15.2\n",
      "75% Quartile  55.5925\n"
     ]
    }
   ],
   "source": [
    "quartiles = np.percentile(df_rice[\"co2_emission\"], [25,50,75])\n",
    "print(\"25% Quartile \",quartiles[0])\n",
    "print(\"50% Quartile \",quartiles[1])\n",
    "print(\"75% Quartile \",quartiles[2])"
   ]
  },
  {
   "cell_type": "markdown",
   "id": "ee70d90a",
   "metadata": {},
   "source": [
    "### 11. Print variance and standard deviation of co2_emission for each food_category"
   ]
  },
  {
   "cell_type": "code",
   "execution_count": 79,
   "id": "6ba402ab",
   "metadata": {},
   "outputs": [
    {
     "data": {
      "text/html": [
       "<div>\n",
       "<style scoped>\n",
       "    .dataframe tbody tr th:only-of-type {\n",
       "        vertical-align: middle;\n",
       "    }\n",
       "\n",
       "    .dataframe tbody tr th {\n",
       "        vertical-align: top;\n",
       "    }\n",
       "\n",
       "    .dataframe thead tr th {\n",
       "        text-align: left;\n",
       "    }\n",
       "\n",
       "    .dataframe thead tr:last-of-type th {\n",
       "        text-align: right;\n",
       "    }\n",
       "</style>\n",
       "<table border=\"1\" class=\"dataframe\">\n",
       "  <thead>\n",
       "    <tr>\n",
       "      <th></th>\n",
       "      <th colspan=\"2\" halign=\"left\">co2_emission</th>\n",
       "    </tr>\n",
       "    <tr>\n",
       "      <th></th>\n",
       "      <th>std</th>\n",
       "      <th>var</th>\n",
       "    </tr>\n",
       "    <tr>\n",
       "      <th>food_category</th>\n",
       "      <th></th>\n",
       "      <th></th>\n",
       "    </tr>\n",
       "  </thead>\n",
       "  <tbody>\n",
       "    <tr>\n",
       "      <th>beef</th>\n",
       "      <td>297.906710</td>\n",
       "      <td>88748.408132</td>\n",
       "    </tr>\n",
       "    <tr>\n",
       "      <th>dairy</th>\n",
       "      <td>132.935669</td>\n",
       "      <td>17671.891985</td>\n",
       "    </tr>\n",
       "    <tr>\n",
       "      <th>eggs</th>\n",
       "      <td>4.622966</td>\n",
       "      <td>21.371819</td>\n",
       "    </tr>\n",
       "    <tr>\n",
       "      <th>fish</th>\n",
       "      <td>30.358481</td>\n",
       "      <td>921.637349</td>\n",
       "    </tr>\n",
       "    <tr>\n",
       "      <th>lamb_goat</th>\n",
       "      <td>128.356996</td>\n",
       "      <td>16475.518363</td>\n",
       "    </tr>\n",
       "    <tr>\n",
       "      <th>nuts</th>\n",
       "      <td>5.969895</td>\n",
       "      <td>35.639652</td>\n",
       "    </tr>\n",
       "    <tr>\n",
       "      <th>pork</th>\n",
       "      <td>55.632396</td>\n",
       "      <td>3094.963537</td>\n",
       "    </tr>\n",
       "    <tr>\n",
       "      <th>poultry</th>\n",
       "      <td>15.653332</td>\n",
       "      <td>245.026801</td>\n",
       "    </tr>\n",
       "    <tr>\n",
       "      <th>rice</th>\n",
       "      <td>47.763754</td>\n",
       "      <td>2281.376243</td>\n",
       "    </tr>\n",
       "    <tr>\n",
       "      <th>soybeans</th>\n",
       "      <td>0.938020</td>\n",
       "      <td>0.879882</td>\n",
       "    </tr>\n",
       "    <tr>\n",
       "      <th>wheat</th>\n",
       "      <td>8.427570</td>\n",
       "      <td>71.023937</td>\n",
       "    </tr>\n",
       "  </tbody>\n",
       "</table>\n",
       "</div>"
      ],
      "text/plain": [
       "              co2_emission              \n",
       "                       std           var\n",
       "food_category                           \n",
       "beef            297.906710  88748.408132\n",
       "dairy           132.935669  17671.891985\n",
       "eggs              4.622966     21.371819\n",
       "fish             30.358481    921.637349\n",
       "lamb_goat       128.356996  16475.518363\n",
       "nuts              5.969895     35.639652\n",
       "pork             55.632396   3094.963537\n",
       "poultry          15.653332    245.026801\n",
       "rice             47.763754   2281.376243\n",
       "soybeans          0.938020      0.879882\n",
       "wheat             8.427570     71.023937"
      ]
     },
     "execution_count": 79,
     "metadata": {},
     "output_type": "execute_result"
    }
   ],
   "source": [
    "df_food.groupby(\"food_category\").agg({\"co2_emission\": ['std','var']})"
   ]
  },
  {
   "cell_type": "markdown",
   "id": "d3c266f7",
   "metadata": {},
   "source": [
    "### 12. Create histogram of co2_emission for each values of food_category"
   ]
  },
  {
   "cell_type": "code",
   "execution_count": 80,
   "id": "50313eee",
   "metadata": {},
   "outputs": [
    {
     "data": {
      "text/plain": [
       "<AxesSubplot:xlabel='food_category'>"
      ]
     },
     "execution_count": 80,
     "metadata": {},
     "output_type": "execute_result"
    },
    {
     "data": {
      "image/png": "[encoded data removed]",
      "text/plain": [
       "<Figure size 432x288 with 1 Axes>"
      ]
     },
     "metadata": {
      "needs_background": "light"
     },
     "output_type": "display_data"
    }
   ],
   "source": [
    "(df_food.groupby(\"food_category\").agg({\"co2_emission\": [\"sum\"]})).plot(kind = \"bar\")"
   ]
  },
  {
   "cell_type": "markdown",
   "id": "61dddddd",
   "metadata": {},
   "source": [
    "### 13. Find outlier using IQR Inter Quartile Range"
   ]
  },
  {
   "cell_type": "code",
   "execution_count": 82,
   "id": "99c25a36",
   "metadata": {},
   "outputs": [
    {
     "name": "stdout",
     "output_type": "stream",
     "text": [
      "Outliers\n"
     ]
    },
    {
     "data": {
      "text/html": [
       "<div>\n",
       "<style scoped>\n",
       "    .dataframe tbody tr th:only-of-type {\n",
       "        vertical-align: middle;\n",
       "    }\n",
       "\n",
       "    .dataframe tbody tr th {\n",
       "        vertical-align: top;\n",
       "    }\n",
       "\n",
       "    .dataframe thead th {\n",
       "        text-align: right;\n",
       "    }\n",
       "</style>\n",
       "<table border=\"1\" class=\"dataframe\">\n",
       "  <thead>\n",
       "    <tr style=\"text-align: right;\">\n",
       "      <th></th>\n",
       "      <th>Unnamed: 0</th>\n",
       "      <th>country</th>\n",
       "      <th>food_category</th>\n",
       "      <th>consumption</th>\n",
       "      <th>co2_emission</th>\n",
       "    </tr>\n",
       "  </thead>\n",
       "  <tbody>\n",
       "    <tr>\n",
       "      <th>1174</th>\n",
       "      <td>1175</td>\n",
       "      <td>Vietnam</td>\n",
       "      <td>rice</td>\n",
       "      <td>144.56</td>\n",
       "      <td>184.99</td>\n",
       "    </tr>\n",
       "    <tr>\n",
       "      <th>1196</th>\n",
       "      <td>1197</td>\n",
       "      <td>Myanmar</td>\n",
       "      <td>rice</td>\n",
       "      <td>132.80</td>\n",
       "      <td>169.94</td>\n",
       "    </tr>\n",
       "    <tr>\n",
       "      <th>1240</th>\n",
       "      <td>1241</td>\n",
       "      <td>Madagascar</td>\n",
       "      <td>rice</td>\n",
       "      <td>102.53</td>\n",
       "      <td>131.21</td>\n",
       "    </tr>\n",
       "    <tr>\n",
       "      <th>1295</th>\n",
       "      <td>1296</td>\n",
       "      <td>Philippines</td>\n",
       "      <td>rice</td>\n",
       "      <td>119.44</td>\n",
       "      <td>152.85</td>\n",
       "    </tr>\n",
       "    <tr>\n",
       "      <th>1350</th>\n",
       "      <td>1351</td>\n",
       "      <td>Thailand</td>\n",
       "      <td>rice</td>\n",
       "      <td>114.57</td>\n",
       "      <td>146.62</td>\n",
       "    </tr>\n",
       "    <tr>\n",
       "      <th>1372</th>\n",
       "      <td>1373</td>\n",
       "      <td>Cambodia</td>\n",
       "      <td>rice</td>\n",
       "      <td>159.10</td>\n",
       "      <td>203.60</td>\n",
       "    </tr>\n",
       "    <tr>\n",
       "      <th>1383</th>\n",
       "      <td>1384</td>\n",
       "      <td>Sierra Leone</td>\n",
       "      <td>rice</td>\n",
       "      <td>103.30</td>\n",
       "      <td>132.19</td>\n",
       "    </tr>\n",
       "    <tr>\n",
       "      <th>1394</th>\n",
       "      <td>1395</td>\n",
       "      <td>Sri Lanka</td>\n",
       "      <td>rice</td>\n",
       "      <td>109.72</td>\n",
       "      <td>140.41</td>\n",
       "    </tr>\n",
       "    <tr>\n",
       "      <th>1405</th>\n",
       "      <td>1406</td>\n",
       "      <td>Indonesia</td>\n",
       "      <td>rice</td>\n",
       "      <td>134.62</td>\n",
       "      <td>172.27</td>\n",
       "    </tr>\n",
       "    <tr>\n",
       "      <th>1427</th>\n",
       "      <td>1428</td>\n",
       "      <td>Bangladesh</td>\n",
       "      <td>rice</td>\n",
       "      <td>171.73</td>\n",
       "      <td>219.76</td>\n",
       "    </tr>\n",
       "  </tbody>\n",
       "</table>\n",
       "</div>"
      ],
      "text/plain": [
       "      Unnamed: 0       country food_category  consumption  co2_emission\n",
       "1174        1175       Vietnam          rice       144.56        184.99\n",
       "1196        1197       Myanmar          rice       132.80        169.94\n",
       "1240        1241    Madagascar          rice       102.53        131.21\n",
       "1295        1296   Philippines          rice       119.44        152.85\n",
       "1350        1351      Thailand          rice       114.57        146.62\n",
       "1372        1373      Cambodia          rice       159.10        203.60\n",
       "1383        1384  Sierra Leone          rice       103.30        132.19\n",
       "1394        1395     Sri Lanka          rice       109.72        140.41\n",
       "1405        1406     Indonesia          rice       134.62        172.27\n",
       "1427        1428    Bangladesh          rice       171.73        219.76"
      ]
     },
     "execution_count": 82,
     "metadata": {},
     "output_type": "execute_result"
    }
   ],
   "source": [
    "quartiles = np.percentile(df_rice[\"co2_emission\"], [25,50,75])\n",
    "q_25 = quartiles[0]\n",
    "q_75 = quartiles[2]\n",
    "IQR = q_75-q_25\n",
    "min_range = q_25 - (1.5*IQR)\n",
    "max_range = q_75 + (1.5*IQR)\n",
    "print(\"Outliers\")\n",
    "df_rice[(df_rice[\"co2_emission\"] > max_range) | (df_rice[\"co2_emission\"] < min_range)]"
   ]
  },
  {
   "cell_type": "markdown",
   "id": "188d3f53",
   "metadata": {},
   "source": [
    "### 14. Calculate total co2_emission per country: emissions_by_country"
   ]
  },
  {
   "cell_type": "code",
   "execution_count": 105,
   "id": "94616104",
   "metadata": {},
   "outputs": [
    {
     "data": {
      "text/html": [
       "<div>\n",
       "<style scoped>\n",
       "    .dataframe tbody tr th:only-of-type {\n",
       "        vertical-align: middle;\n",
       "    }\n",
       "\n",
       "    .dataframe tbody tr th {\n",
       "        vertical-align: top;\n",
       "    }\n",
       "\n",
       "    .dataframe thead tr th {\n",
       "        text-align: left;\n",
       "    }\n",
       "\n",
       "    .dataframe thead tr:last-of-type th {\n",
       "        text-align: right;\n",
       "    }\n",
       "</style>\n",
       "<table border=\"1\" class=\"dataframe\">\n",
       "  <thead>\n",
       "    <tr>\n",
       "      <th></th>\n",
       "      <th>co2_emission</th>\n",
       "    </tr>\n",
       "    <tr>\n",
       "      <th></th>\n",
       "      <th>sum</th>\n",
       "    </tr>\n",
       "    <tr>\n",
       "      <th>country</th>\n",
       "      <th></th>\n",
       "    </tr>\n",
       "  </thead>\n",
       "  <tbody>\n",
       "    <tr>\n",
       "      <th>Albania</th>\n",
       "      <td>1777.85</td>\n",
       "    </tr>\n",
       "    <tr>\n",
       "      <th>Algeria</th>\n",
       "      <td>707.88</td>\n",
       "    </tr>\n",
       "    <tr>\n",
       "      <th>Angola</th>\n",
       "      <td>412.99</td>\n",
       "    </tr>\n",
       "    <tr>\n",
       "      <th>Argentina</th>\n",
       "      <td>2172.40</td>\n",
       "    </tr>\n",
       "    <tr>\n",
       "      <th>Armenia</th>\n",
       "      <td>1109.93</td>\n",
       "    </tr>\n",
       "    <tr>\n",
       "      <th>...</th>\n",
       "      <td>...</td>\n",
       "    </tr>\n",
       "    <tr>\n",
       "      <th>Uruguay</th>\n",
       "      <td>1634.91</td>\n",
       "    </tr>\n",
       "    <tr>\n",
       "      <th>Venezuela</th>\n",
       "      <td>1104.10</td>\n",
       "    </tr>\n",
       "    <tr>\n",
       "      <th>Vietnam</th>\n",
       "      <td>641.51</td>\n",
       "    </tr>\n",
       "    <tr>\n",
       "      <th>Zambia</th>\n",
       "      <td>225.30</td>\n",
       "    </tr>\n",
       "    <tr>\n",
       "      <th>Zimbabwe</th>\n",
       "      <td>350.33</td>\n",
       "    </tr>\n",
       "  </tbody>\n",
       "</table>\n",
       "<p>130 rows × 1 columns</p>\n",
       "</div>"
      ],
      "text/plain": [
       "          co2_emission\n",
       "                   sum\n",
       "country               \n",
       "Albania        1777.85\n",
       "Algeria         707.88\n",
       "Angola          412.99\n",
       "Argentina      2172.40\n",
       "Armenia        1109.93\n",
       "...                ...\n",
       "Uruguay        1634.91\n",
       "Venezuela      1104.10\n",
       "Vietnam         641.51\n",
       "Zambia          225.30\n",
       "Zimbabwe        350.33\n",
       "\n",
       "[130 rows x 1 columns]"
      ]
     },
     "execution_count": 105,
     "metadata": {},
     "output_type": "execute_result"
    }
   ],
   "source": [
    "emissions_by_country = df_food.groupby(\"country\").agg({\"co2_emission\": ['sum']})\n",
    "emissions_by_country"
   ]
  },
  {
   "cell_type": "markdown",
   "id": "acee2b9c",
   "metadata": {},
   "source": [
    "### 15. Compute the first and third quartiles and IQR of emissions_by_country"
   ]
  },
  {
   "cell_type": "code",
   "execution_count": 106,
   "id": "47c3d73a",
   "metadata": {},
   "outputs": [
    {
     "name": "stdout",
     "output_type": "stream",
     "text": [
      "25% Quartile  446.66\n",
      "75% Quartile  1111.1525000000001\n",
      "IQR 664.4925000000001\n"
     ]
    }
   ],
   "source": [
    "quartiles = np.percentile(emissions_by_country[\"co2_emission\"], [25,50,75])\n",
    "q_25 = quartiles[0]\n",
    "q_75 = quartiles[2]\n",
    "print(\"25% Quartile \",quartiles[0])\n",
    "print(\"75% Quartile \",quartiles[2])\n",
    "IQR = q_75-q_25\n",
    "print(\"IQR\",IQR)"
   ]
  },
  {
   "cell_type": "markdown",
   "id": "4980f8bb",
   "metadata": {},
   "source": [
    "### 16. Calculate the lower and upper cutoffs for outliers"
   ]
  },
  {
   "cell_type": "code",
   "execution_count": 107,
   "id": "5b538c53",
   "metadata": {},
   "outputs": [
    {
     "name": "stdout",
     "output_type": "stream",
     "text": [
      "Lower Cutoff -550.0787500000001\n",
      "Upper Cutoff 2107.89125\n"
     ]
    }
   ],
   "source": [
    "min_range = q_25 - (1.5*IQR)\n",
    "max_range = q_75 + (1.5*IQR)\n",
    "print(\"Lower Cutoff\",min_range)\n",
    "print(\"Upper Cutoff\",max_range)"
   ]
  },
  {
   "cell_type": "markdown",
   "id": "0ac0dd0f",
   "metadata": {},
   "source": [
    "### 17. Subset emissions_by_country to find outliers"
   ]
  },
  {
   "cell_type": "code",
   "execution_count": 113,
   "id": "02de032e",
   "metadata": {},
   "outputs": [
    {
     "name": "stdout",
     "output_type": "stream",
     "text": [
      "Outliers\n"
     ]
    },
    {
     "data": {
      "text/html": [
       "<div>\n",
       "<style scoped>\n",
       "    .dataframe tbody tr th:only-of-type {\n",
       "        vertical-align: middle;\n",
       "    }\n",
       "\n",
       "    .dataframe tbody tr th {\n",
       "        vertical-align: top;\n",
       "    }\n",
       "\n",
       "    .dataframe thead th {\n",
       "        text-align: right;\n",
       "    }\n",
       "</style>\n",
       "<table border=\"1\" class=\"dataframe\">\n",
       "  <thead>\n",
       "    <tr style=\"text-align: right;\">\n",
       "      <th></th>\n",
       "      <th>co2_emission</th>\n",
       "    </tr>\n",
       "    <tr>\n",
       "      <th>country</th>\n",
       "      <th></th>\n",
       "    </tr>\n",
       "  </thead>\n",
       "  <tbody>\n",
       "    <tr>\n",
       "      <th>Argentina</th>\n",
       "      <td>2172.4</td>\n",
       "    </tr>\n",
       "  </tbody>\n",
       "</table>\n",
       "</div>"
      ],
      "text/plain": [
       "           co2_emission\n",
       "country                \n",
       "Argentina        2172.4"
      ]
     },
     "execution_count": 113,
     "metadata": {},
     "output_type": "execute_result"
    }
   ],
   "source": [
    "emissions_by_country.columns = [\"co2_emission\"]\n",
    "print(\"Outliers\")\n",
    "emissions_by_country[(emissions_by_country[\"co2_emission\"] > max_range) | (emissions_by_country[\"co2_emission\"] < min_range)]"
   ]
  }
 ],
 "metadata": {
  "kernelspec": {
   "display_name": "Python 3",
   "language": "python",
   "name": "python3"
  },
  "language_info": {
   "codemirror_mode": {
    "name": "ipython",
    "version": 3
   },
   "file_extension": ".py",
   "mimetype": "text/x-python",
   "name": "python",
   "nbconvert_exporter": "python",
   "pygments_lexer": "ipython3",
   "version": "3.8.10"
  }
 },
 "nbformat": 4,
 "nbformat_minor": 5
}
